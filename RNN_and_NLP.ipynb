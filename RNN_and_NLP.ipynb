{
  "nbformat": 4,
  "nbformat_minor": 0,
  "metadata": {
    "colab": {
      "name": "RNN and NLP",
      "provenance": [],
      "authorship_tag": "ABX9TyOayz8ooD4mHKNamzZY0z1b",
      "include_colab_link": true
    },
    "kernelspec": {
      "name": "python3",
      "display_name": "Python 3"
    },
    "language_info": {
      "name": "python"
    },
    "accelerator": "GPU"
  },
  "cells": [
    {
      "cell_type": "markdown",
      "metadata": {
        "id": "view-in-github",
        "colab_type": "text"
      },
      "source": [
        "<a href=\"https://colab.research.google.com/github/Zypher44/RaduIntuneric/blob/master/RNN_and_NLP.ipynb\" target=\"_parent\"><img src=\"https://colab.research.google.com/assets/colab-badge.svg\" alt=\"Open In Colab\"/></a>"
      ]
    },
    {
      "cell_type": "markdown",
      "metadata": {
        "id": "W4IGjpQVg31E"
      },
      "source": [
        "#Intro to NLP, NLP has the goal of deriving information out of natural language (could be sequences text or speach) seq2seq"
      ]
    },
    {
      "cell_type": "code",
      "metadata": {
        "colab": {
          "base_uri": "https://localhost:8080/"
        },
        "id": "SPfPWj3UqlIL",
        "outputId": "df5aa91a-f81f-403f-e1d6-ced942c4e8d0"
      },
      "source": [
        "!nvidia-smi -L"
      ],
      "execution_count": 1,
      "outputs": [
        {
          "output_type": "stream",
          "text": [
            "NVIDIA-SMI has failed because it couldn't communicate with the NVIDIA driver. Make sure that the latest NVIDIA driver is installed and running.\n",
            "\n"
          ],
          "name": "stdout"
        }
      ]
    },
    {
      "cell_type": "code",
      "metadata": {
        "colab": {
          "base_uri": "https://localhost:8080/"
        },
        "id": "BDY0RcFxrHiq",
        "outputId": "f2567abd-75e2-4e33-e9e8-a730344cdae4"
      },
      "source": [
        "!wget https://raw.githubusercontent.com/mrdbourke/tensorflow-deep-learning/main/extras/helper_functions.py"
      ],
      "execution_count": 2,
      "outputs": [
        {
          "output_type": "stream",
          "text": [
            "--2021-07-20 22:55:30--  https://raw.githubusercontent.com/mrdbourke/tensorflow-deep-learning/main/extras/helper_functions.py\n",
            "Resolving raw.githubusercontent.com (raw.githubusercontent.com)... 185.199.108.133, 185.199.109.133, 185.199.110.133, ...\n",
            "Connecting to raw.githubusercontent.com (raw.githubusercontent.com)|185.199.108.133|:443... connected.\n",
            "HTTP request sent, awaiting response... 200 OK\n",
            "Length: 10246 (10K) [text/plain]\n",
            "Saving to: ‘helper_functions.py.1’\n",
            "\n",
            "\rhelper_functions.py   0%[                    ]       0  --.-KB/s               \rhelper_functions.py 100%[===================>]  10.01K  --.-KB/s    in 0s      \n",
            "\n",
            "2021-07-20 22:55:30 (77.4 MB/s) - ‘helper_functions.py.1’ saved [10246/10246]\n",
            "\n"
          ],
          "name": "stdout"
        }
      ]
    },
    {
      "cell_type": "code",
      "metadata": {
        "id": "rscmLfAhrOaT"
      },
      "source": [
        "from helper_functions import *"
      ],
      "execution_count": 3,
      "outputs": []
    },
    {
      "cell_type": "code",
      "metadata": {
        "colab": {
          "base_uri": "https://localhost:8080/"
        },
        "id": "yAYQhtP3rQzB",
        "outputId": "f6cc8c16-892d-4260-bd7f-097e7b4912e2"
      },
      "source": [
        "#Get a text dataset \n",
        "\n",
        "!wget https://storage.googleapis.com/ztm_tf_course/nlp_getting_started.zip\n",
        "\n",
        "unzip_data(\"nlp_getting_started.zip\")"
      ],
      "execution_count": 4,
      "outputs": [
        {
          "output_type": "stream",
          "text": [
            "--2021-07-20 22:55:35--  https://storage.googleapis.com/ztm_tf_course/nlp_getting_started.zip\n",
            "Resolving storage.googleapis.com (storage.googleapis.com)... 142.250.188.208, 142.251.33.208, 172.217.13.80, ...\n",
            "Connecting to storage.googleapis.com (storage.googleapis.com)|142.250.188.208|:443... connected.\n",
            "HTTP request sent, awaiting response... 200 OK\n",
            "Length: 607343 (593K) [application/zip]\n",
            "Saving to: ‘nlp_getting_started.zip’\n",
            "\n",
            "\rnlp_getting_started   0%[                    ]       0  --.-KB/s               \rnlp_getting_started 100%[===================>] 593.11K  --.-KB/s    in 0.007s  \n",
            "\n",
            "2021-07-20 22:55:35 (78.0 MB/s) - ‘nlp_getting_started.zip’ saved [607343/607343]\n",
            "\n"
          ],
          "name": "stdout"
        }
      ]
    },
    {
      "cell_type": "markdown",
      "metadata": {
        "id": "ZeYLg9NrrTLz"
      },
      "source": [
        "#Visulizing a text dataset "
      ]
    },
    {
      "cell_type": "code",
      "metadata": {
        "colab": {
          "base_uri": "https://localhost:8080/",
          "height": 204
        },
        "id": "gFqhohOhsQoW",
        "outputId": "fcf6790b-ba79-40d6-99c3-62bbdb44cf45"
      },
      "source": [
        "import pandas as pd \n",
        "\n",
        "train_df = pd.read_csv(\"train.csv\")\n",
        "test_df = pd.read_csv(\"test.csv\")\n",
        "\n",
        "train_df.head()\n",
        "#target class 1 = disastor, 0 = non disatstor "
      ],
      "execution_count": 5,
      "outputs": [
        {
          "output_type": "execute_result",
          "data": {
            "text/html": [
              "<div>\n",
              "<style scoped>\n",
              "    .dataframe tbody tr th:only-of-type {\n",
              "        vertical-align: middle;\n",
              "    }\n",
              "\n",
              "    .dataframe tbody tr th {\n",
              "        vertical-align: top;\n",
              "    }\n",
              "\n",
              "    .dataframe thead th {\n",
              "        text-align: right;\n",
              "    }\n",
              "</style>\n",
              "<table border=\"1\" class=\"dataframe\">\n",
              "  <thead>\n",
              "    <tr style=\"text-align: right;\">\n",
              "      <th></th>\n",
              "      <th>id</th>\n",
              "      <th>keyword</th>\n",
              "      <th>location</th>\n",
              "      <th>text</th>\n",
              "      <th>target</th>\n",
              "    </tr>\n",
              "  </thead>\n",
              "  <tbody>\n",
              "    <tr>\n",
              "      <th>0</th>\n",
              "      <td>1</td>\n",
              "      <td>NaN</td>\n",
              "      <td>NaN</td>\n",
              "      <td>Our Deeds are the Reason of this #earthquake M...</td>\n",
              "      <td>1</td>\n",
              "    </tr>\n",
              "    <tr>\n",
              "      <th>1</th>\n",
              "      <td>4</td>\n",
              "      <td>NaN</td>\n",
              "      <td>NaN</td>\n",
              "      <td>Forest fire near La Ronge Sask. Canada</td>\n",
              "      <td>1</td>\n",
              "    </tr>\n",
              "    <tr>\n",
              "      <th>2</th>\n",
              "      <td>5</td>\n",
              "      <td>NaN</td>\n",
              "      <td>NaN</td>\n",
              "      <td>All residents asked to 'shelter in place' are ...</td>\n",
              "      <td>1</td>\n",
              "    </tr>\n",
              "    <tr>\n",
              "      <th>3</th>\n",
              "      <td>6</td>\n",
              "      <td>NaN</td>\n",
              "      <td>NaN</td>\n",
              "      <td>13,000 people receive #wildfires evacuation or...</td>\n",
              "      <td>1</td>\n",
              "    </tr>\n",
              "    <tr>\n",
              "      <th>4</th>\n",
              "      <td>7</td>\n",
              "      <td>NaN</td>\n",
              "      <td>NaN</td>\n",
              "      <td>Just got sent this photo from Ruby #Alaska as ...</td>\n",
              "      <td>1</td>\n",
              "    </tr>\n",
              "  </tbody>\n",
              "</table>\n",
              "</div>"
            ],
            "text/plain": [
              "   id keyword  ...                                               text target\n",
              "0   1     NaN  ...  Our Deeds are the Reason of this #earthquake M...      1\n",
              "1   4     NaN  ...             Forest fire near La Ronge Sask. Canada      1\n",
              "2   5     NaN  ...  All residents asked to 'shelter in place' are ...      1\n",
              "3   6     NaN  ...  13,000 people receive #wildfires evacuation or...      1\n",
              "4   7     NaN  ...  Just got sent this photo from Ruby #Alaska as ...      1\n",
              "\n",
              "[5 rows x 5 columns]"
            ]
          },
          "metadata": {
            "tags": []
          },
          "execution_count": 5
        }
      ]
    },
    {
      "cell_type": "code",
      "metadata": {
        "colab": {
          "base_uri": "https://localhost:8080/",
          "height": 204
        },
        "id": "Qna5RaSGs4H_",
        "outputId": "738a0f9f-3f89-4d24-ce7d-03229dfcef96"
      },
      "source": [
        "#Shuffle train data \n",
        "\n",
        "train_df_shuffled = train_df.sample(frac=1, random_state=42) #shuffles all the data\n",
        "train_df_shuffled.head()"
      ],
      "execution_count": 6,
      "outputs": [
        {
          "output_type": "execute_result",
          "data": {
            "text/html": [
              "<div>\n",
              "<style scoped>\n",
              "    .dataframe tbody tr th:only-of-type {\n",
              "        vertical-align: middle;\n",
              "    }\n",
              "\n",
              "    .dataframe tbody tr th {\n",
              "        vertical-align: top;\n",
              "    }\n",
              "\n",
              "    .dataframe thead th {\n",
              "        text-align: right;\n",
              "    }\n",
              "</style>\n",
              "<table border=\"1\" class=\"dataframe\">\n",
              "  <thead>\n",
              "    <tr style=\"text-align: right;\">\n",
              "      <th></th>\n",
              "      <th>id</th>\n",
              "      <th>keyword</th>\n",
              "      <th>location</th>\n",
              "      <th>text</th>\n",
              "      <th>target</th>\n",
              "    </tr>\n",
              "  </thead>\n",
              "  <tbody>\n",
              "    <tr>\n",
              "      <th>2644</th>\n",
              "      <td>3796</td>\n",
              "      <td>destruction</td>\n",
              "      <td>NaN</td>\n",
              "      <td>So you have a new weapon that can cause un-ima...</td>\n",
              "      <td>1</td>\n",
              "    </tr>\n",
              "    <tr>\n",
              "      <th>2227</th>\n",
              "      <td>3185</td>\n",
              "      <td>deluge</td>\n",
              "      <td>NaN</td>\n",
              "      <td>The f$&amp;amp;@ing things I do for #GISHWHES Just...</td>\n",
              "      <td>0</td>\n",
              "    </tr>\n",
              "    <tr>\n",
              "      <th>5448</th>\n",
              "      <td>7769</td>\n",
              "      <td>police</td>\n",
              "      <td>UK</td>\n",
              "      <td>DT @georgegalloway: RT @Galloway4Mayor: ÛÏThe...</td>\n",
              "      <td>1</td>\n",
              "    </tr>\n",
              "    <tr>\n",
              "      <th>132</th>\n",
              "      <td>191</td>\n",
              "      <td>aftershock</td>\n",
              "      <td>NaN</td>\n",
              "      <td>Aftershock back to school kick off was great. ...</td>\n",
              "      <td>0</td>\n",
              "    </tr>\n",
              "    <tr>\n",
              "      <th>6845</th>\n",
              "      <td>9810</td>\n",
              "      <td>trauma</td>\n",
              "      <td>Montgomery County, MD</td>\n",
              "      <td>in response to trauma Children of Addicts deve...</td>\n",
              "      <td>0</td>\n",
              "    </tr>\n",
              "  </tbody>\n",
              "</table>\n",
              "</div>"
            ],
            "text/plain": [
              "        id  ... target\n",
              "2644  3796  ...      1\n",
              "2227  3185  ...      0\n",
              "5448  7769  ...      1\n",
              "132    191  ...      0\n",
              "6845  9810  ...      0\n",
              "\n",
              "[5 rows x 5 columns]"
            ]
          },
          "metadata": {
            "tags": []
          },
          "execution_count": 6
        }
      ]
    },
    {
      "cell_type": "code",
      "metadata": {
        "colab": {
          "base_uri": "https://localhost:8080/",
          "height": 204
        },
        "id": "_XLOOLKetmV1",
        "outputId": "083a07a5-093f-4fc3-efdc-1db67ac38d2a"
      },
      "source": [
        "test_df.head() # use the text in the test set to perdict a label "
      ],
      "execution_count": 7,
      "outputs": [
        {
          "output_type": "execute_result",
          "data": {
            "text/html": [
              "<div>\n",
              "<style scoped>\n",
              "    .dataframe tbody tr th:only-of-type {\n",
              "        vertical-align: middle;\n",
              "    }\n",
              "\n",
              "    .dataframe tbody tr th {\n",
              "        vertical-align: top;\n",
              "    }\n",
              "\n",
              "    .dataframe thead th {\n",
              "        text-align: right;\n",
              "    }\n",
              "</style>\n",
              "<table border=\"1\" class=\"dataframe\">\n",
              "  <thead>\n",
              "    <tr style=\"text-align: right;\">\n",
              "      <th></th>\n",
              "      <th>id</th>\n",
              "      <th>keyword</th>\n",
              "      <th>location</th>\n",
              "      <th>text</th>\n",
              "    </tr>\n",
              "  </thead>\n",
              "  <tbody>\n",
              "    <tr>\n",
              "      <th>0</th>\n",
              "      <td>0</td>\n",
              "      <td>NaN</td>\n",
              "      <td>NaN</td>\n",
              "      <td>Just happened a terrible car crash</td>\n",
              "    </tr>\n",
              "    <tr>\n",
              "      <th>1</th>\n",
              "      <td>2</td>\n",
              "      <td>NaN</td>\n",
              "      <td>NaN</td>\n",
              "      <td>Heard about #earthquake is different cities, s...</td>\n",
              "    </tr>\n",
              "    <tr>\n",
              "      <th>2</th>\n",
              "      <td>3</td>\n",
              "      <td>NaN</td>\n",
              "      <td>NaN</td>\n",
              "      <td>there is a forest fire at spot pond, geese are...</td>\n",
              "    </tr>\n",
              "    <tr>\n",
              "      <th>3</th>\n",
              "      <td>9</td>\n",
              "      <td>NaN</td>\n",
              "      <td>NaN</td>\n",
              "      <td>Apocalypse lighting. #Spokane #wildfires</td>\n",
              "    </tr>\n",
              "    <tr>\n",
              "      <th>4</th>\n",
              "      <td>11</td>\n",
              "      <td>NaN</td>\n",
              "      <td>NaN</td>\n",
              "      <td>Typhoon Soudelor kills 28 in China and Taiwan</td>\n",
              "    </tr>\n",
              "  </tbody>\n",
              "</table>\n",
              "</div>"
            ],
            "text/plain": [
              "   id keyword location                                               text\n",
              "0   0     NaN      NaN                 Just happened a terrible car crash\n",
              "1   2     NaN      NaN  Heard about #earthquake is different cities, s...\n",
              "2   3     NaN      NaN  there is a forest fire at spot pond, geese are...\n",
              "3   9     NaN      NaN           Apocalypse lighting. #Spokane #wildfires\n",
              "4  11     NaN      NaN      Typhoon Soudelor kills 28 in China and Taiwan"
            ]
          },
          "metadata": {
            "tags": []
          },
          "execution_count": 7
        }
      ]
    },
    {
      "cell_type": "code",
      "metadata": {
        "colab": {
          "base_uri": "https://localhost:8080/"
        },
        "id": "5nhA2c3DtsSB",
        "outputId": "ca3400e0-0e89-4c1a-eb7d-236e3a70df8a"
      },
      "source": [
        "#how many examples of each class?\n",
        "train_df_shuffled.target.value_counts()"
      ],
      "execution_count": 8,
      "outputs": [
        {
          "output_type": "execute_result",
          "data": {
            "text/plain": [
              "0    4342\n",
              "1    3271\n",
              "Name: target, dtype: int64"
            ]
          },
          "metadata": {
            "tags": []
          },
          "execution_count": 8
        }
      ]
    },
    {
      "cell_type": "code",
      "metadata": {
        "colab": {
          "base_uri": "https://localhost:8080/"
        },
        "id": "uYVqjBZRt48u",
        "outputId": "8b40d47c-8785-45bd-d219-c457171e5144"
      },
      "source": [
        "#What are the total number of samples \n",
        "len(train_df_shuffled), len(test_df)"
      ],
      "execution_count": 9,
      "outputs": [
        {
          "output_type": "execute_result",
          "data": {
            "text/plain": [
              "(7613, 3263)"
            ]
          },
          "metadata": {
            "tags": []
          },
          "execution_count": 9
        }
      ]
    },
    {
      "cell_type": "code",
      "metadata": {
        "colab": {
          "base_uri": "https://localhost:8080/"
        },
        "id": "8IWtJtKiuanr",
        "outputId": "ba74fb80-2d78-47aa-8a7c-dfd509c35702"
      },
      "source": [
        "#Visualize some random training examples\n",
        "import random \n",
        "\n",
        "random_index = random.randint(0,len(train_df)-5) #len -5 so we dont go past end of train data \n",
        "\n",
        "for row in train_df_shuffled[['text','target']][random_index:random_index+5].itertuples(): #ITertuples will return tuples of text and target\n",
        " _, text, target = row\n",
        " print(f\"target:{target}\",\"(real disastor)\" if target > 0 else\" (not real diaster)\")\n",
        " print(f\"Text:\\n{text}\\n\")\n",
        " print(\"----\\n\")"
      ],
      "execution_count": 10,
      "outputs": [
        {
          "output_type": "stream",
          "text": [
            "target:1 (real disastor)\n",
            "Text:\n",
            "@argentings WE COULD HAVE HAD IT AAAAAAALLLL IÛªm not even on that season and IÛªm devastated\n",
            "\n",
            "----\n",
            "\n",
            "target:1 (real disastor)\n",
            "Text:\n",
            "@Cali74142290 lol natural disaster/hospital crisis something is needed to get rid of some cast members....\n",
            "\n",
            "----\n",
            "\n",
            "target:1 (real disastor)\n",
            "Text:\n",
            "@casewrites when it rains in NJ it flash floods. Otherwise its just a desert of grief and taxes.\n",
            "\n",
            "----\n",
            "\n",
            "target:0  (not real diaster)\n",
            "Text:\n",
            "If you're reading this go accidentally fall off a cliff mate\n",
            "\n",
            "----\n",
            "\n",
            "target:1 (real disastor)\n",
            "Text:\n",
            "How many trains derailed that @wmata has to shut down orange/blue in most of DC? The Avengers made less of a mess @unsuckdcmetro\n",
            "\n",
            "----\n",
            "\n"
          ],
          "name": "stdout"
        }
      ]
    },
    {
      "cell_type": "markdown",
      "metadata": {
        "id": "Hi1Ad1S_urAa"
      },
      "source": [
        "##Split data in training and validation sets \n",
        "\n"
      ]
    },
    {
      "cell_type": "code",
      "metadata": {
        "id": "M675polAwn5d"
      },
      "source": [
        "from sklearn.model_selection import train_test_split\n"
      ],
      "execution_count": 11,
      "outputs": []
    },
    {
      "cell_type": "code",
      "metadata": {
        "id": "xrIXo28bwrlh"
      },
      "source": [
        "train_sentences, val_sentences, train_labels, val_labels = train_test_split(train_df_shuffled['text'].to_numpy(),\n",
        "                                                                            train_df_shuffled['target'].to_numpy(),\n",
        "                                                                            test_size=0.1, #Use 10% of data for validation size\n",
        "                                                                            random_state=42)"
      ],
      "execution_count": 12,
      "outputs": []
    },
    {
      "cell_type": "code",
      "metadata": {
        "colab": {
          "base_uri": "https://localhost:8080/"
        },
        "id": "TPdy2OzfxW34",
        "outputId": "b8a618f2-6416-4a4e-9a4e-1ec7540edd06"
      },
      "source": [
        "len(train_sentences), len(val_sentences), len(train_labels), len(val_labels)\n"
      ],
      "execution_count": 13,
      "outputs": [
        {
          "output_type": "execute_result",
          "data": {
            "text/plain": [
              "(6851, 762, 6851, 762)"
            ]
          },
          "metadata": {
            "tags": []
          },
          "execution_count": 13
        }
      ]
    },
    {
      "cell_type": "code",
      "metadata": {
        "colab": {
          "base_uri": "https://localhost:8080/"
        },
        "id": "M39NGYR7xn8J",
        "outputId": "772cdf68-015a-4627-adc0-2c45b6dd36aa"
      },
      "source": [
        "train_sentences[:10], train_labels[:10]"
      ],
      "execution_count": 14,
      "outputs": [
        {
          "output_type": "execute_result",
          "data": {
            "text/plain": [
              "(array(['@mogacola @zamtriossu i screamed after hitting tweet',\n",
              "        'Imagine getting flattened by Kurt Zouma',\n",
              "        '@Gurmeetramrahim #MSGDoing111WelfareWorks Green S welfare force ke appx 65000 members har time disaster victim ki help ke liye tyar hai....',\n",
              "        \"@shakjn @C7 @Magnums im shaking in fear he's gonna hack the planet\",\n",
              "        'Somehow find you and I collide http://t.co/Ee8RpOahPk',\n",
              "        '@EvaHanderek @MarleyKnysh great times until the bus driver held us hostage in the mall parking lot lmfao',\n",
              "        'destroy the free fandom honestly',\n",
              "        'Weapons stolen from National Guard Armory in New Albany still missing #Gunsense http://t.co/lKNU8902JE',\n",
              "        '@wfaaweather Pete when will the heat wave pass? Is it really going to be mid month? Frisco Boy Scouts have a canoe trip in Okla.',\n",
              "        'Patient-reported outcomes in long-term survivors of metastatic colorectal cancer - British Journal of Surgery http://t.co/5Yl4DC1Tqt'],\n",
              "       dtype=object), array([0, 0, 1, 0, 0, 1, 1, 0, 1, 1]))"
            ]
          },
          "metadata": {
            "tags": []
          },
          "execution_count": 14
        }
      ]
    },
    {
      "cell_type": "markdown",
      "metadata": {
        "id": "Vn901p-xx3rL"
      },
      "source": [
        "#Tokenisation - Straight mapping from token to number can be modelled but quickly gets too big\n",
        "#Embedding - richer representation of relationships between tokens (can limit size + can be learned )"
      ]
    },
    {
      "cell_type": "code",
      "metadata": {
        "id": "Ulolei5b3Ycg"
      },
      "source": [
        "import tensorflow as tf\n",
        "from tensorflow.keras.layers.experimental.preprocessing import TextVectorization\n",
        "\n",
        "#Use the default textvectorization paramters \n",
        "text_vectorizer = TextVectorization(max_tokens=None, #How many words in the vocabulary (automatically addd <00V>)\n",
        "                                    standardize=\"lower_and_strip_punctuation\",\n",
        "                                    split='whitespace',\n",
        "                                    ngrams=None, #Create groups of n-words\n",
        "                                    output_mode='int',#how to map tokens to numbers\n",
        "                                    output_sequence_length=None, #Pads each sequence to the longest seqeunce [How long do you want ur sequnces to be]\n",
        "                                    pad_to_max_tokens=True\n",
        "                                    )"
      ],
      "execution_count": 15,
      "outputs": []
    },
    {
      "cell_type": "code",
      "metadata": {
        "id": "AcOrprsP7z5a"
      },
      "source": [
        "#Find the average number of tokens in the training tweets \n",
        "max_length= round(sum([len(i.split()) for i in train_sentences])/len(train_sentences))"
      ],
      "execution_count": 16,
      "outputs": []
    },
    {
      "cell_type": "code",
      "metadata": {
        "id": "coIEKSKh-aYU"
      },
      "source": [
        "max_vocab_length = 10000 #Max number of words to have in our vocabulary\n",
        "max_length #Max length our sequiences will be \n",
        "\n",
        "text_vectorizer = TextVectorization(max_tokens=max_vocab_length,\n",
        "                                    output_mode='int',\n",
        "                                    output_sequence_length=max_length)"
      ],
      "execution_count": 17,
      "outputs": []
    },
    {
      "cell_type": "code",
      "metadata": {
        "id": "v_eLQfkj_GRG"
      },
      "source": [
        "#Fit the text vectorizer to the training data, convert word data to numbers to feed it to the model\n",
        "text_vectorizer.adapt(train_sentences)"
      ],
      "execution_count": 18,
      "outputs": []
    },
    {
      "cell_type": "code",
      "metadata": {
        "colab": {
          "base_uri": "https://localhost:8080/"
        },
        "id": "C-wGNhz6CUNZ",
        "outputId": "2582b7d0-cad1-4555-db62-e6efe048cc3d"
      },
      "source": [
        "#Create a sample sentence and tokenize it \n",
        "\n",
        "sample_sentence=\"There's a fire in the hallway\"\n",
        "text_vectorizer([sample_sentence])"
      ],
      "execution_count": 19,
      "outputs": [
        {
          "output_type": "execute_result",
          "data": {
            "text/plain": [
              "<tf.Tensor: shape=(1, 15), dtype=int64, numpy=\n",
              "array([[264,   3,  42,   4,   2,   1,   0,   0,   0,   0,   0,   0,   0,\n",
              "          0,   0]])>"
            ]
          },
          "metadata": {
            "tags": []
          },
          "execution_count": 19
        }
      ]
    },
    {
      "cell_type": "code",
      "metadata": {
        "colab": {
          "base_uri": "https://localhost:8080/"
        },
        "id": "8DtnDMeeCfU2",
        "outputId": "bc622385-cbdd-4641-e048-634327621354"
      },
      "source": [
        "random_sentence = random.choice(train_sentences)\n",
        "print(f\"Oringal text:\\n {random_sentence}\\n Vectorized Verison:\\n\")\n",
        "text_vectorizer([random_sentence])"
      ],
      "execution_count": 20,
      "outputs": [
        {
          "output_type": "stream",
          "text": [
            "Oringal text:\n",
            " Naaa I bee dead.. Like a legit zombie .. I feel every sore part in my body ?? https://t.co/J4fSDPfA63\n",
            " Vectorized Verison:\n",
            "\n"
          ],
          "name": "stdout"
        },
        {
          "output_type": "execute_result",
          "data": {
            "text/plain": [
              "<tf.Tensor: shape=(1, 15), dtype=int64, numpy=\n",
              "array([[   1,    8, 4104,  115,   25,    3, 2902, 1913,    8,  214,  197,\n",
              "        4570,  453,    4,   13]])>"
            ]
          },
          "metadata": {
            "tags": []
          },
          "execution_count": 20
        }
      ]
    },
    {
      "cell_type": "code",
      "metadata": {
        "colab": {
          "base_uri": "https://localhost:8080/"
        },
        "id": "UAgdt4y-C4vn",
        "outputId": "7c1041e3-8d20-4a22-e03c-c805dfd7fce2"
      },
      "source": [
        "#Get the uniuqe words in the vocabulary \n",
        "\n",
        "words_in_vocab = text_vectorizer.get_vocabulary()#Get all of the unique words in our trianing data \n",
        "top_5_words = words_in_vocab[:5] #Get the most comon words \n",
        "bottom_5_words = words_in_vocab[-5:]\n",
        "\n",
        "print(f\"Number of words in vocab:{len(words_in_vocab)}\\nTop5 words: {top_5_words}\\nBottom 5 words:{bottom_5_words}\")"
      ],
      "execution_count": 21,
      "outputs": [
        {
          "output_type": "stream",
          "text": [
            "Number of words in vocab:10000\n",
            "Top5 words: ['', '[UNK]', 'the', 'a', 'in']\n",
            "Bottom 5 words:['pages', 'paeds', 'pads', 'padres', 'paddytomlinson1']\n"
          ],
          "name": "stdout"
        }
      ]
    },
    {
      "cell_type": "markdown",
      "metadata": {
        "id": "R2II7OwbD92K"
      },
      "source": [
        "#Creating and embedding using an Embedding layer "
      ]
    },
    {
      "cell_type": "code",
      "metadata": {
        "id": "zXuFF9-TH7YU"
      },
      "source": [
        "#To embedde we will use tensorflow embedding layer \n",
        "# We will care about the Input_dim (size of our vocabulary)\n",
        "# Output_dim = the size of the output embedding vector, (a value of 100 would mean that the output of the token would be of len 100)\n",
        "# input_length = length of the sequences being passed to the embedding layer \n",
        "\n",
        "from tensorflow.keras import layers \n",
        "\n",
        "embedding = layers.Embedding(input_dim=max_vocab_length, #Set input shape\n",
        "                             output_dim=128, # output shape\n",
        "                             input_length=max_length) # how long each input \n",
        "\n"
      ],
      "execution_count": 22,
      "outputs": []
    },
    {
      "cell_type": "code",
      "metadata": {
        "colab": {
          "base_uri": "https://localhost:8080/"
        },
        "id": "l9NUf2sJJFYe",
        "outputId": "5516fca5-afb5-4a10-d699-cbbca235a1ab"
      },
      "source": [
        "embedding"
      ],
      "execution_count": 23,
      "outputs": [
        {
          "output_type": "execute_result",
          "data": {
            "text/plain": [
              "<tensorflow.python.keras.layers.embeddings.Embedding at 0x7f793d97bd10>"
            ]
          },
          "metadata": {
            "tags": []
          },
          "execution_count": 23
        }
      ]
    },
    {
      "cell_type": "code",
      "metadata": {
        "colab": {
          "base_uri": "https://localhost:8080/"
        },
        "id": "jrnE-O6CJF-v",
        "outputId": "c5dc74ca-77f2-4fe8-fc9b-d4a7a03091d5"
      },
      "source": [
        "#Get random sentecne from training sentece \n",
        "print(random_sentence)\n",
        "sample_embed = embedding(text_vectorizer([random_sentence]))\n",
        "sample_embed"
      ],
      "execution_count": 24,
      "outputs": [
        {
          "output_type": "stream",
          "text": [
            "Naaa I bee dead.. Like a legit zombie .. I feel every sore part in my body ?? https://t.co/J4fSDPfA63\n"
          ],
          "name": "stdout"
        },
        {
          "output_type": "execute_result",
          "data": {
            "text/plain": [
              "<tf.Tensor: shape=(1, 15, 128), dtype=float32, numpy=\n",
              "array([[[-0.04146413, -0.02204341,  0.00879944, ..., -0.00216888,\n",
              "         -0.02553005, -0.0142746 ],\n",
              "        [-0.00212524,  0.0021032 , -0.01371529, ...,  0.03313824,\n",
              "          0.04800102,  0.0492393 ],\n",
              "        [-0.02146939,  0.04141412,  0.0420869 , ...,  0.02683269,\n",
              "          0.02830439,  0.04820651],\n",
              "        ...,\n",
              "        [ 0.0367195 ,  0.047816  ,  0.04408226, ...,  0.04535827,\n",
              "         -0.01843261, -0.03107108],\n",
              "        [-0.01274369, -0.02210113, -0.02775197, ..., -0.03112464,\n",
              "         -0.03269634, -0.00150758],\n",
              "        [ 0.03247715, -0.00169619, -0.03940312, ..., -0.04676704,\n",
              "          0.02212412, -0.03408563]]], dtype=float32)>"
            ]
          },
          "metadata": {
            "tags": []
          },
          "execution_count": 24
        }
      ]
    },
    {
      "cell_type": "markdown",
      "metadata": {
        "id": "zpf5W_EKJNHG"
      },
      "source": [
        "#Modeing a text dataset \n",
        "\n",
        "0.   Model0: Navie Bayes (baseline)\n",
        "1.   Feed-forward neural network(dense model)\n",
        "2.   LSTM Model (RNN)\n",
        "3.   GRU Model (RNN)\n",
        "4.   BiDirectional- LSTM model(RNN)\n",
        "5.   1D Convolutional Neural network(CNN)\n",
        "6.   TensorFlow hub Pretrained feature Extractor(using Transfer learning for NLP)\n",
        "7. Same as model6 with 10% of the training data\n"
      ]
    },
    {
      "cell_type": "markdown",
      "metadata": {
        "id": "bdm84CVPNkG4"
      },
      "source": [
        "#Model 0 baseline "
      ]
    },
    {
      "cell_type": "code",
      "metadata": {
        "colab": {
          "base_uri": "https://localhost:8080/"
        },
        "id": "zviIvJEbUZBM",
        "outputId": "257e98b7-9f54-4a83-c09f-2d79232a7cc3"
      },
      "source": [
        "from sklearn.feature_extraction.text import TfidfVectorizer\n",
        "from sklearn.naive_bayes import MultinomialNB\n",
        "from sklearn.pipeline import Pipeline\n",
        "\n",
        "#Create tokenization and modeling pipeline\n",
        "\n",
        "model0 = Pipeline([\n",
        "\n",
        "                   (\"tfidf\",TfidfVectorizer()), #Convert words to numbers using Tfidf\n",
        "                   (\"clf\", MultinomialNB()) #Model the text clf is classifcation model\n",
        "\n",
        "])\n",
        "\n",
        "#Fit pipeline to training data \n",
        "\n",
        "model0.fit(\n",
        "    train_sentences, train_labels\n",
        ")"
      ],
      "execution_count": 25,
      "outputs": [
        {
          "output_type": "execute_result",
          "data": {
            "text/plain": [
              "Pipeline(memory=None,\n",
              "         steps=[('tfidf',\n",
              "                 TfidfVectorizer(analyzer='word', binary=False,\n",
              "                                 decode_error='strict',\n",
              "                                 dtype=<class 'numpy.float64'>,\n",
              "                                 encoding='utf-8', input='content',\n",
              "                                 lowercase=True, max_df=1.0, max_features=None,\n",
              "                                 min_df=1, ngram_range=(1, 1), norm='l2',\n",
              "                                 preprocessor=None, smooth_idf=True,\n",
              "                                 stop_words=None, strip_accents=None,\n",
              "                                 sublinear_tf=False,\n",
              "                                 token_pattern='(?u)\\\\b\\\\w\\\\w+\\\\b',\n",
              "                                 tokenizer=None, use_idf=True,\n",
              "                                 vocabulary=None)),\n",
              "                ('clf',\n",
              "                 MultinomialNB(alpha=1.0, class_prior=None, fit_prior=True))],\n",
              "         verbose=False)"
            ]
          },
          "metadata": {
            "tags": []
          },
          "execution_count": 25
        }
      ]
    },
    {
      "cell_type": "code",
      "metadata": {
        "colab": {
          "base_uri": "https://localhost:8080/"
        },
        "id": "eHa_xbOOU619",
        "outputId": "dadfde3f-c16e-496f-b213-c08098bc6d81"
      },
      "source": [
        "#Evaluate the baseline model \n",
        "\n",
        "baseline_score = model0.score(val_sentences,val_labels)\n",
        "print(f\"Our baseline model acheives a accuracy of {baseline_score*100:.2f}%:\")"
      ],
      "execution_count": 26,
      "outputs": [
        {
          "output_type": "stream",
          "text": [
            "Our baseline model acheives a accuracy of 79.27%:\n"
          ],
          "name": "stdout"
        }
      ]
    },
    {
      "cell_type": "code",
      "metadata": {
        "colab": {
          "base_uri": "https://localhost:8080/"
        },
        "id": "6Dc3kyThVoYM",
        "outputId": "0360bdcc-bf71-4597-8008-a89bb60e7ac1"
      },
      "source": [
        "#Make perdictions \n",
        "baseline_preds = model0.predict(val_sentences)\n",
        "baseline_preds[:20]"
      ],
      "execution_count": 27,
      "outputs": [
        {
          "output_type": "execute_result",
          "data": {
            "text/plain": [
              "array([1, 1, 1, 0, 0, 1, 1, 1, 1, 0, 0, 1, 0, 0, 0, 0, 0, 0, 0, 1])"
            ]
          },
          "metadata": {
            "tags": []
          },
          "execution_count": 27
        }
      ]
    },
    {
      "cell_type": "code",
      "metadata": {
        "colab": {
          "base_uri": "https://localhost:8080/"
        },
        "id": "tpedvMitWF15",
        "outputId": "cbe58b17-6a1a-45b3-9bd3-ce2a014d3318"
      },
      "source": [
        "from sklearn.metrics import precision_score, f1_score, accuracy_score, recall_score\n",
        "\n",
        "print(\"Precision socre\")\n",
        "precision_score(val_labels,baseline_preds)"
      ],
      "execution_count": 28,
      "outputs": [
        {
          "output_type": "stream",
          "text": [
            "Precision socre\n"
          ],
          "name": "stdout"
        },
        {
          "output_type": "execute_result",
          "data": {
            "text/plain": [
              "0.8861788617886179"
            ]
          },
          "metadata": {
            "tags": []
          },
          "execution_count": 28
        }
      ]
    },
    {
      "cell_type": "code",
      "metadata": {
        "colab": {
          "base_uri": "https://localhost:8080/"
        },
        "id": "Hpjw-aZSAD1P",
        "outputId": "09e99da2-de2f-47fe-a5ca-f3957c33f669"
      },
      "source": [
        "print(\"f1_score\")\n",
        "f1_score(val_labels,baseline_preds)"
      ],
      "execution_count": 29,
      "outputs": [
        {
          "output_type": "stream",
          "text": [
            "f1_score\n"
          ],
          "name": "stdout"
        },
        {
          "output_type": "execute_result",
          "data": {
            "text/plain": [
              "0.734006734006734"
            ]
          },
          "metadata": {
            "tags": []
          },
          "execution_count": 29
        }
      ]
    },
    {
      "cell_type": "code",
      "metadata": {
        "colab": {
          "base_uri": "https://localhost:8080/"
        },
        "id": "ttVRybwFAmgD",
        "outputId": "1925d290-5648-4921-9aca-b5c91807b264"
      },
      "source": [
        "print(\"recall score\")\n",
        "recall_score(val_labels,baseline_preds)"
      ],
      "execution_count": 30,
      "outputs": [
        {
          "output_type": "stream",
          "text": [
            "recall score\n"
          ],
          "name": "stdout"
        },
        {
          "output_type": "execute_result",
          "data": {
            "text/plain": [
              "0.6264367816091954"
            ]
          },
          "metadata": {
            "tags": []
          },
          "execution_count": 30
        }
      ]
    },
    {
      "cell_type": "code",
      "metadata": {
        "colab": {
          "base_uri": "https://localhost:8080/"
        },
        "id": "vRqb0tBsBmZJ",
        "outputId": "7bd5e00f-ece7-41d4-b574-949027b9908f"
      },
      "source": [
        "#Create a function so we dont have to do this for our other models \n",
        "from sklearn.metrics import precision_recall_fscore_support, accuracy_score, recall_score\n",
        "\n",
        "baseline_results=calculate_results(val_labels,baseline_preds)\n",
        "baseline_results"
      ],
      "execution_count": 31,
      "outputs": [
        {
          "output_type": "execute_result",
          "data": {
            "text/plain": [
              "{'accuracy': 79.26509186351706,\n",
              " 'f1': 0.7862189758049549,\n",
              " 'precision': 0.8111390004213173,\n",
              " 'recall': 0.7926509186351706}"
            ]
          },
          "metadata": {
            "tags": []
          },
          "execution_count": 31
        }
      ]
    },
    {
      "cell_type": "markdown",
      "metadata": {
        "id": "GFdU7mGJB9lW"
      },
      "source": [
        "##Model 1 a simple dense model "
      ]
    },
    {
      "cell_type": "code",
      "metadata": {
        "id": "tL44r8AsGHHt"
      },
      "source": [
        "#Create a tensorboard callback \n",
        "Save_dir = \"model_logs\""
      ],
      "execution_count": 32,
      "outputs": []
    },
    {
      "cell_type": "code",
      "metadata": {
        "id": "UPKOv8FiGlEz"
      },
      "source": [
        "#Build model with functional API\n",
        "\n",
        "inputs = layers.Input(shape=(1,), dtype=tf.string)#Inputs are 1-dimensional strings \n",
        "x = text_vectorizer(inputs)#Turn the inputt text into numbers \n",
        "x = embedding(x) #Create an embedding of the numberized inputs \n",
        "#x = layers.GlobalAveragePooling1D()(x) #Condese feature vector for each token to one vector \n",
        "x = layers.GlobalMaxPool1D()(x)\n",
        "outputs = layers.Dense(1,activation='sigmoid')(x) #Create the output layer, want binary outputs so use sigmoid activation function \n",
        "\n",
        "model1 = tf.keras.Model(inputs,outputs, name=\"Model1Dense\")\n"
      ],
      "execution_count": 33,
      "outputs": []
    },
    {
      "cell_type": "code",
      "metadata": {
        "colab": {
          "base_uri": "https://localhost:8080/"
        },
        "id": "OYyaYCTQGnXy",
        "outputId": "31079507-2785-4f69-ea45-ed7c64096639"
      },
      "source": [
        "model1.summary()"
      ],
      "execution_count": 34,
      "outputs": [
        {
          "output_type": "stream",
          "text": [
            "Model: \"Model1Dense\"\n",
            "_________________________________________________________________\n",
            "Layer (type)                 Output Shape              Param #   \n",
            "=================================================================\n",
            "input_1 (InputLayer)         [(None, 1)]               0         \n",
            "_________________________________________________________________\n",
            "text_vectorization_1 (TextVe (None, 15)                0         \n",
            "_________________________________________________________________\n",
            "embedding (Embedding)        (None, 15, 128)           1280000   \n",
            "_________________________________________________________________\n",
            "global_max_pooling1d (Global (None, 128)               0         \n",
            "_________________________________________________________________\n",
            "dense (Dense)                (None, 1)                 129       \n",
            "=================================================================\n",
            "Total params: 1,280,129\n",
            "Trainable params: 1,280,129\n",
            "Non-trainable params: 0\n",
            "_________________________________________________________________\n"
          ],
          "name": "stdout"
        }
      ]
    },
    {
      "cell_type": "code",
      "metadata": {
        "id": "VmuPMPdOHWig"
      },
      "source": [
        "#Compile model \n",
        "\n",
        "model1.compile(\n",
        "    loss = tf.keras.losses.BinaryCrossentropy(),\n",
        "    optimizer = tf.keras.optimizers.Adam(),\n",
        "    metrics=['accuracy']\n",
        ")"
      ],
      "execution_count": 35,
      "outputs": []
    },
    {
      "cell_type": "code",
      "metadata": {
        "colab": {
          "base_uri": "https://localhost:8080/"
        },
        "id": "tBW8IrBBHu8l",
        "outputId": "4d9acc37-0e73-4b00-9ef6-80f052b8c6b7"
      },
      "source": [
        "history1= model1.fit(\n",
        "    x=train_sentences, \n",
        "    y=train_labels,\n",
        "    epochs=5, \n",
        "    validation_data = (val_sentences, val_labels),\n",
        "    callbacks=[create_tensorboard_callback(Save_dir,\"Model1Dense\")]\n",
        ")"
      ],
      "execution_count": 36,
      "outputs": [
        {
          "output_type": "stream",
          "text": [
            "Saving TensorBoard log files to: model_logs/Model1Dense/20210720-225603\n",
            "Epoch 1/5\n",
            "215/215 [==============================] - 6s 21ms/step - loss: 0.6346 - accuracy: 0.6603 - val_loss: 0.5684 - val_accuracy: 0.7743\n",
            "Epoch 2/5\n",
            "215/215 [==============================] - 4s 19ms/step - loss: 0.4670 - accuracy: 0.8291 - val_loss: 0.4747 - val_accuracy: 0.7808\n",
            "Epoch 3/5\n",
            "215/215 [==============================] - 4s 20ms/step - loss: 0.3407 - accuracy: 0.8742 - val_loss: 0.4541 - val_accuracy: 0.7861\n",
            "Epoch 4/5\n",
            "215/215 [==============================] - 4s 19ms/step - loss: 0.2577 - accuracy: 0.9082 - val_loss: 0.4551 - val_accuracy: 0.7848\n",
            "Epoch 5/5\n",
            "215/215 [==============================] - 4s 20ms/step - loss: 0.1979 - accuracy: 0.9342 - val_loss: 0.4663 - val_accuracy: 0.7874\n"
          ],
          "name": "stdout"
        }
      ]
    },
    {
      "cell_type": "code",
      "metadata": {
        "colab": {
          "base_uri": "https://localhost:8080/"
        },
        "id": "TlvQ-J38IDqo",
        "outputId": "f0e304c9-167c-4c84-90eb-25ba648ccb27"
      },
      "source": [
        "#Check the results \n",
        "model1.evaluate(val_sentences,val_labels)"
      ],
      "execution_count": 37,
      "outputs": [
        {
          "output_type": "stream",
          "text": [
            "24/24 [==============================] - 0s 2ms/step - loss: 0.4663 - accuracy: 0.7874\n"
          ],
          "name": "stdout"
        },
        {
          "output_type": "execute_result",
          "data": {
            "text/plain": [
              "[0.46633994579315186, 0.787401556968689]"
            ]
          },
          "metadata": {
            "tags": []
          },
          "execution_count": 37
        }
      ]
    },
    {
      "cell_type": "code",
      "metadata": {
        "colab": {
          "base_uri": "https://localhost:8080/"
        },
        "id": "Xlg1YgxkIVXA",
        "outputId": "60fea8c6-d13b-47bc-a9aa-dd08c5c71795"
      },
      "source": [
        "#Make perdicitons and evaulate those \n",
        "\n",
        "model1_pred_probs = model1.predict(val_sentences)\n",
        "model1_pred_probs.shape"
      ],
      "execution_count": 38,
      "outputs": [
        {
          "output_type": "execute_result",
          "data": {
            "text/plain": [
              "(762, 1)"
            ]
          },
          "metadata": {
            "tags": []
          },
          "execution_count": 38
        }
      ]
    },
    {
      "cell_type": "code",
      "metadata": {
        "colab": {
          "base_uri": "https://localhost:8080/"
        },
        "id": "J-CuVv6QIbsN",
        "outputId": "52a38ad3-5f61-4293-cdc8-4e20b04ff1c4"
      },
      "source": [
        "model1_pred_probs[0]"
      ],
      "execution_count": 39,
      "outputs": [
        {
          "output_type": "execute_result",
          "data": {
            "text/plain": [
              "array([0.4885217], dtype=float32)"
            ]
          },
          "metadata": {
            "tags": []
          },
          "execution_count": 39
        }
      ]
    },
    {
      "cell_type": "code",
      "metadata": {
        "colab": {
          "base_uri": "https://localhost:8080/"
        },
        "id": "yn1iIF_NIk4B",
        "outputId": "ca56e40c-b21d-4a9e-9b2d-e8406b19ac49"
      },
      "source": [
        "#Convert model perdicton probailites to label fromat \n",
        "\n",
        "model1_preds = tf.squeeze(tf.round(model1_pred_probs))#Remove dimension with squeeze \n",
        "model1_preds[:20] "
      ],
      "execution_count": 40,
      "outputs": [
        {
          "output_type": "execute_result",
          "data": {
            "text/plain": [
              "<tf.Tensor: shape=(20,), dtype=float32, numpy=\n",
              "array([0., 1., 1., 0., 0., 1., 1., 1., 1., 0., 0., 1., 0., 0., 0., 0., 0.,\n",
              "       0., 0., 1.], dtype=float32)>"
            ]
          },
          "metadata": {
            "tags": []
          },
          "execution_count": 40
        }
      ]
    },
    {
      "cell_type": "code",
      "metadata": {
        "colab": {
          "base_uri": "https://localhost:8080/"
        },
        "id": "w2lI9TnPKR2o",
        "outputId": "c218f17d-e978-4480-bf77-6e6a42cbab98"
      },
      "source": [
        "#Calucalate model 1 results \n",
        "\n",
        "model_1_results = calculate_results(y_true=val_labels, y_pred=model1_preds)\n",
        "model_1_results"
      ],
      "execution_count": 41,
      "outputs": [
        {
          "output_type": "execute_result",
          "data": {
            "text/plain": [
              "{'accuracy': 78.74015748031496,\n",
              " 'f1': 0.7846966492209201,\n",
              " 'precision': 0.7914920592553047,\n",
              " 'recall': 0.7874015748031497}"
            ]
          },
          "metadata": {
            "tags": []
          },
          "execution_count": 41
        }
      ]
    },
    {
      "cell_type": "code",
      "metadata": {
        "colab": {
          "base_uri": "https://localhost:8080/"
        },
        "id": "9SB0DK0PKa6F",
        "outputId": "62ae6cbb-f030-4ba8-d402-68d6102b4714"
      },
      "source": [
        "baseline_results"
      ],
      "execution_count": 42,
      "outputs": [
        {
          "output_type": "execute_result",
          "data": {
            "text/plain": [
              "{'accuracy': 79.26509186351706,\n",
              " 'f1': 0.7862189758049549,\n",
              " 'precision': 0.8111390004213173,\n",
              " 'recall': 0.7926509186351706}"
            ]
          },
          "metadata": {
            "tags": []
          },
          "execution_count": 42
        }
      ]
    },
    {
      "cell_type": "markdown",
      "metadata": {
        "id": "KdL1CN1DKeqm"
      },
      "source": [
        "#Visualizign learned embeddings"
      ]
    },
    {
      "cell_type": "code",
      "metadata": {
        "colab": {
          "base_uri": "https://localhost:8080/"
        },
        "id": "HHXGPQkwNfOI",
        "outputId": "fb3b8157-8520-4c45-b9d9-d3ffd4078e92"
      },
      "source": [
        "words_in_vocab = text_vectorizer.get_vocabulary()\n",
        "len(words_in_vocab)"
      ],
      "execution_count": 43,
      "outputs": [
        {
          "output_type": "execute_result",
          "data": {
            "text/plain": [
              "10000"
            ]
          },
          "metadata": {
            "tags": []
          },
          "execution_count": 43
        }
      ]
    },
    {
      "cell_type": "code",
      "metadata": {
        "colab": {
          "base_uri": "https://localhost:8080/"
        },
        "id": "O8wqXa21NkOE",
        "outputId": "34257363-d81c-4710-dc87-4946a20268dc"
      },
      "source": [
        "model1.summary()"
      ],
      "execution_count": 44,
      "outputs": [
        {
          "output_type": "stream",
          "text": [
            "Model: \"Model1Dense\"\n",
            "_________________________________________________________________\n",
            "Layer (type)                 Output Shape              Param #   \n",
            "=================================================================\n",
            "input_1 (InputLayer)         [(None, 1)]               0         \n",
            "_________________________________________________________________\n",
            "text_vectorization_1 (TextVe (None, 15)                0         \n",
            "_________________________________________________________________\n",
            "embedding (Embedding)        (None, 15, 128)           1280000   \n",
            "_________________________________________________________________\n",
            "global_max_pooling1d (Global (None, 128)               0         \n",
            "_________________________________________________________________\n",
            "dense (Dense)                (None, 1)                 129       \n",
            "=================================================================\n",
            "Total params: 1,280,129\n",
            "Trainable params: 1,280,129\n",
            "Non-trainable params: 0\n",
            "_________________________________________________________________\n"
          ],
          "name": "stdout"
        }
      ]
    },
    {
      "cell_type": "code",
      "metadata": {
        "colab": {
          "base_uri": "https://localhost:8080/"
        },
        "id": "HvaFL7GeNykz",
        "outputId": "feac1a99-2fb3-44f8-9a09-9d1937bc9311"
      },
      "source": [
        "#Get the weight matrix of embedding layer \n",
        "#These are the numerical representations of each token in our training data which have been learned for -5 epochs\n",
        "embed_weights = model1.get_layer(\"embedding\").get_weights()[0]\n",
        "embed_weights"
      ],
      "execution_count": 45,
      "outputs": [
        {
          "output_type": "execute_result",
          "data": {
            "text/plain": [
              "array([[-0.01620602, -0.02610922, -0.02803961, ..., -0.0859455 ,\n",
              "        -0.07913391, -0.11240514],\n",
              "       [-0.04146413, -0.04535341, -0.02615771, ..., -0.0850148 ,\n",
              "        -0.08769286, -0.10448726],\n",
              "       [-0.03001236, -0.03246249, -0.02858569, ..., -0.06853916,\n",
              "        -0.05190062, -0.0517725 ],\n",
              "       ...,\n",
              "       [ 0.03900569, -0.02555531, -0.02278867, ...,  0.03647982,\n",
              "         0.01261071, -0.02155306],\n",
              "       [-0.00768056, -0.03157054, -0.03993907, ..., -0.03723338,\n",
              "        -0.03221883,  0.00167125],\n",
              "       [ 0.02593461,  0.10489169,  0.05084139, ..., -0.04217453,\n",
              "         0.00189019, -0.04150397]], dtype=float32)"
            ]
          },
          "metadata": {
            "tags": []
          },
          "execution_count": 45
        }
      ]
    },
    {
      "cell_type": "code",
      "metadata": {
        "colab": {
          "base_uri": "https://localhost:8080/"
        },
        "id": "oyuMVBRoPADH",
        "outputId": "725b2a74-07ea-4038-e9bc-446a2182d995"
      },
      "source": [
        "print(embed_weights.shape)"
      ],
      "execution_count": 46,
      "outputs": [
        {
          "output_type": "stream",
          "text": [
            "(10000, 128)\n"
          ],
          "name": "stdout"
        }
      ]
    },
    {
      "cell_type": "code",
      "metadata": {
        "id": "J0bRux2yPQh0"
      },
      "source": [
        "import io\n",
        "out_v = io.open('vectors.tsv', 'w', encoding='utf-8')\n",
        "out_m = io.open('metadata.tsv', 'w', encoding='utf-8')\n",
        "\n",
        "for index, word in enumerate(words_in_vocab):\n",
        "  if index == 0:\n",
        "    continue  # skip 0, it's padding.\n",
        "  vec = embed_weights[index]\n",
        "  out_v.write('\\t'.join([str(x) for x in vec]) + \"\\n\")\n",
        "  out_m.write(word + \"\\n\")\n",
        "out_v.close()\n",
        "out_m.close()"
      ],
      "execution_count": 47,
      "outputs": []
    },
    {
      "cell_type": "code",
      "metadata": {
        "colab": {
          "base_uri": "https://localhost:8080/",
          "height": 17
        },
        "id": "_sd_ayh-UECQ",
        "outputId": "47f57a41-1f7e-461f-95f5-c342af68d67a"
      },
      "source": [
        "try:\n",
        "  from google.colab import files\n",
        "  files.download('vectors.tsv')\n",
        "  files.download('metadata.tsv')\n",
        "except Exception:\n",
        "  pass"
      ],
      "execution_count": 48,
      "outputs": [
        {
          "output_type": "display_data",
          "data": {
            "application/javascript": [
              "\n",
              "    async function download(id, filename, size) {\n",
              "      if (!google.colab.kernel.accessAllowed) {\n",
              "        return;\n",
              "      }\n",
              "      const div = document.createElement('div');\n",
              "      const label = document.createElement('label');\n",
              "      label.textContent = `Downloading \"${filename}\": `;\n",
              "      div.appendChild(label);\n",
              "      const progress = document.createElement('progress');\n",
              "      progress.max = size;\n",
              "      div.appendChild(progress);\n",
              "      document.body.appendChild(div);\n",
              "\n",
              "      const buffers = [];\n",
              "      let downloaded = 0;\n",
              "\n",
              "      const channel = await google.colab.kernel.comms.open(id);\n",
              "      // Send a message to notify the kernel that we're ready.\n",
              "      channel.send({})\n",
              "\n",
              "      for await (const message of channel.messages) {\n",
              "        // Send a message to notify the kernel that we're ready.\n",
              "        channel.send({})\n",
              "        if (message.buffers) {\n",
              "          for (const buffer of message.buffers) {\n",
              "            buffers.push(buffer);\n",
              "            downloaded += buffer.byteLength;\n",
              "            progress.value = downloaded;\n",
              "          }\n",
              "        }\n",
              "      }\n",
              "      const blob = new Blob(buffers, {type: 'application/binary'});\n",
              "      const a = document.createElement('a');\n",
              "      a.href = window.URL.createObjectURL(blob);\n",
              "      a.download = filename;\n",
              "      div.appendChild(a);\n",
              "      a.click();\n",
              "      div.remove();\n",
              "    }\n",
              "  "
            ],
            "text/plain": [
              "<IPython.core.display.Javascript object>"
            ]
          },
          "metadata": {
            "tags": []
          }
        },
        {
          "output_type": "display_data",
          "data": {
            "application/javascript": [
              "download(\"download_af21bb99-e324-4940-abfa-93bcdd7f1956\", \"vectors.tsv\", 16008279)"
            ],
            "text/plain": [
              "<IPython.core.display.Javascript object>"
            ]
          },
          "metadata": {
            "tags": []
          }
        },
        {
          "output_type": "display_data",
          "data": {
            "application/javascript": [
              "\n",
              "    async function download(id, filename, size) {\n",
              "      if (!google.colab.kernel.accessAllowed) {\n",
              "        return;\n",
              "      }\n",
              "      const div = document.createElement('div');\n",
              "      const label = document.createElement('label');\n",
              "      label.textContent = `Downloading \"${filename}\": `;\n",
              "      div.appendChild(label);\n",
              "      const progress = document.createElement('progress');\n",
              "      progress.max = size;\n",
              "      div.appendChild(progress);\n",
              "      document.body.appendChild(div);\n",
              "\n",
              "      const buffers = [];\n",
              "      let downloaded = 0;\n",
              "\n",
              "      const channel = await google.colab.kernel.comms.open(id);\n",
              "      // Send a message to notify the kernel that we're ready.\n",
              "      channel.send({})\n",
              "\n",
              "      for await (const message of channel.messages) {\n",
              "        // Send a message to notify the kernel that we're ready.\n",
              "        channel.send({})\n",
              "        if (message.buffers) {\n",
              "          for (const buffer of message.buffers) {\n",
              "            buffers.push(buffer);\n",
              "            downloaded += buffer.byteLength;\n",
              "            progress.value = downloaded;\n",
              "          }\n",
              "        }\n",
              "      }\n",
              "      const blob = new Blob(buffers, {type: 'application/binary'});\n",
              "      const a = document.createElement('a');\n",
              "      a.href = window.URL.createObjectURL(blob);\n",
              "      a.download = filename;\n",
              "      div.appendChild(a);\n",
              "      a.click();\n",
              "      div.remove();\n",
              "    }\n",
              "  "
            ],
            "text/plain": [
              "<IPython.core.display.Javascript object>"
            ]
          },
          "metadata": {
            "tags": []
          }
        },
        {
          "output_type": "display_data",
          "data": {
            "application/javascript": [
              "download(\"download_3f971e18-c6ab-4d6e-9c87-9b8ea9e03c96\", \"metadata.tsv\", 80388)"
            ],
            "text/plain": [
              "<IPython.core.display.Javascript object>"
            ]
          },
          "metadata": {
            "tags": []
          }
        }
      ]
    },
    {
      "cell_type": "markdown",
      "metadata": {
        "id": "CNnvtawKUT5A"
      },
      "source": [
        "#Recurrnet Nureal Network RNN \n",
        "\n",
        "Rnns are useful for sequence data. \n",
        "\n",
        "The Premeise of a recurnet nueral network is to use the representation of a previous input to aid the representation of a later input. "
      ]
    },
    {
      "cell_type": "markdown",
      "metadata": {
        "id": "tRVAC1FPJXIP"
      },
      "source": [
        "#Model 2: LSTM\n",
        "\n",
        "LSTM= Long Short term memory (one of the most popular lstm cells)\n",
        "\n",
        "Structure:\n",
        "Input -> tokenize -> embedding -> layer (RNNS/dense) -> output(label probability)\n",
        "\n"
      ]
    },
    {
      "cell_type": "code",
      "metadata": {
        "id": "uWkhDenPOeEG"
      },
      "source": [
        "from tensorflow.keras import layers \n",
        "\n",
        "inputs = layers.Input(shape=(1,), dtype='string')\n",
        "x = text_vectorizer(inputs)\n",
        "x = embedding(x)\n",
        "x = layers.LSTM(units=64, return_sequences=True)(x) #When stacking RNN cells together, you need set return sequences =True \n",
        "x = layers.LSTM(64,)(x)\n",
        "x = layers.Dense(64, activation=\"relu\")(x)\n",
        "outputs = layers.Dense(1,activation='sigmoid')(x)\n",
        "model2 =tf.keras.Model(inputs,outputs, name=\"Model2_LSTM\")"
      ],
      "execution_count": 49,
      "outputs": []
    },
    {
      "cell_type": "code",
      "metadata": {
        "colab": {
          "base_uri": "https://localhost:8080/"
        },
        "id": "d1c7Z2UwO9F5",
        "outputId": "78a62ce8-35d0-4d8b-d874-9b9bef811b73"
      },
      "source": [
        "#Get summary\n",
        "\n",
        "model2.summary()\n"
      ],
      "execution_count": 50,
      "outputs": [
        {
          "output_type": "stream",
          "text": [
            "Model: \"Model2_LSTM\"\n",
            "_________________________________________________________________\n",
            "Layer (type)                 Output Shape              Param #   \n",
            "=================================================================\n",
            "input_2 (InputLayer)         [(None, 1)]               0         \n",
            "_________________________________________________________________\n",
            "text_vectorization_1 (TextVe (None, 15)                0         \n",
            "_________________________________________________________________\n",
            "embedding (Embedding)        (None, 15, 128)           1280000   \n",
            "_________________________________________________________________\n",
            "lstm (LSTM)                  (None, 15, 64)            49408     \n",
            "_________________________________________________________________\n",
            "lstm_1 (LSTM)                (None, 64)                33024     \n",
            "_________________________________________________________________\n",
            "dense_1 (Dense)              (None, 64)                4160      \n",
            "_________________________________________________________________\n",
            "dense_2 (Dense)              (None, 1)                 65        \n",
            "=================================================================\n",
            "Total params: 1,366,657\n",
            "Trainable params: 1,366,657\n",
            "Non-trainable params: 0\n",
            "_________________________________________________________________\n"
          ],
          "name": "stdout"
        }
      ]
    },
    {
      "cell_type": "code",
      "metadata": {
        "id": "ae0QjxeeRxyU"
      },
      "source": [
        "model2.compile(\n",
        "    loss= tf.keras.losses.BinaryCrossentropy(),\n",
        "    optimizer = tf.keras.optimizers.Adam(),\n",
        "    metrics=['accuracy']\n",
        ")"
      ],
      "execution_count": 51,
      "outputs": []
    },
    {
      "cell_type": "code",
      "metadata": {
        "colab": {
          "base_uri": "https://localhost:8080/"
        },
        "id": "7Aoa6WjrR7-n",
        "outputId": "6c66a0c8-a346-4b6c-d133-1fe5464ab3be"
      },
      "source": [
        "history2= model2.fit(\n",
        "    x= train_sentences,\n",
        "    y= train_labels,\n",
        "    epochs=5,\n",
        "    validation_data=(val_sentences,val_labels),\n",
        "    callbacks=[create_tensorboard_callback(Save_dir,\n",
        "                                           \"Model2_LSTM\")]\n",
        ")"
      ],
      "execution_count": 52,
      "outputs": [
        {
          "output_type": "stream",
          "text": [
            "Saving TensorBoard log files to: model_logs/Model2_LSTM/20210720-225653\n",
            "Epoch 1/5\n",
            "215/215 [==============================] - 15s 48ms/step - loss: 0.3783 - accuracy: 0.8373 - val_loss: 0.4851 - val_accuracy: 0.7822\n",
            "Epoch 2/5\n",
            "215/215 [==============================] - 9s 41ms/step - loss: 0.2442 - accuracy: 0.9028 - val_loss: 0.6089 - val_accuracy: 0.7795\n",
            "Epoch 3/5\n",
            "215/215 [==============================] - 9s 41ms/step - loss: 0.1790 - accuracy: 0.9318 - val_loss: 0.7750 - val_accuracy: 0.7769\n",
            "Epoch 4/5\n",
            "215/215 [==============================] - 9s 42ms/step - loss: 0.1334 - accuracy: 0.9502 - val_loss: 0.6392 - val_accuracy: 0.7795\n",
            "Epoch 5/5\n",
            "215/215 [==============================] - 9s 40ms/step - loss: 0.0994 - accuracy: 0.9599 - val_loss: 0.8846 - val_accuracy: 0.7703\n"
          ],
          "name": "stdout"
        }
      ]
    },
    {
      "cell_type": "code",
      "metadata": {
        "colab": {
          "base_uri": "https://localhost:8080/"
        },
        "id": "wuGLn0fbSM9x",
        "outputId": "c1a5544e-5d4c-4a5d-a41e-9b4b7f2ffcd5"
      },
      "source": [
        "#Make perdicitons with LSTM model \n",
        "\n",
        "model2_pred_probs = model2.predict(val_sentences)\n",
        "model2_pred_probs[:10]"
      ],
      "execution_count": 54,
      "outputs": [
        {
          "output_type": "execute_result",
          "data": {
            "text/plain": [
              "array([[0.04299861],\n",
              "       [0.9830059 ],\n",
              "       [0.99982285],\n",
              "       [0.02073315],\n",
              "       [0.00150943],\n",
              "       [0.99981725],\n",
              "       [0.5727585 ],\n",
              "       [0.99994576],\n",
              "       [0.9999256 ],\n",
              "       [0.10180491]], dtype=float32)"
            ]
          },
          "metadata": {
            "tags": []
          },
          "execution_count": 54
        }
      ]
    },
    {
      "cell_type": "code",
      "metadata": {
        "colab": {
          "base_uri": "https://localhost:8080/"
        },
        "id": "vYPSUL6oScgp",
        "outputId": "8e6b938a-28ec-462c-80cf-80f311b15f81"
      },
      "source": [
        "#Convert model 2 pred probs to labels \n",
        "model2_preds = tf.squeeze(tf.round(model2_pred_probs))\n",
        "model2_preds"
      ],
      "execution_count": 55,
      "outputs": [
        {
          "output_type": "execute_result",
          "data": {
            "text/plain": [
              "<tf.Tensor: shape=(762,), dtype=float32, numpy=\n",
              "array([0., 1., 1., 0., 0., 1., 1., 1., 1., 0., 0., 0., 0., 0., 0., 0., 0.,\n",
              "       0., 0., 1., 1., 0., 1., 0., 1., 1., 0., 0., 0., 0., 1., 0., 0., 0.,\n",
              "       1., 0., 1., 0., 0., 1., 0., 0., 0., 0., 1., 1., 1., 0., 0., 1., 0.,\n",
              "       0., 0., 0., 0., 0., 0., 1., 0., 0., 0., 1., 1., 0., 1., 1., 1., 0.,\n",
              "       1., 0., 0., 0., 1., 0., 0., 1., 0., 1., 0., 0., 0., 0., 1., 0., 0.,\n",
              "       0., 0., 0., 0., 1., 1., 0., 1., 0., 1., 1., 1., 1., 1., 1., 1., 0.,\n",
              "       0., 1., 1., 0., 1., 1., 0., 1., 1., 0., 1., 0., 0., 0., 0., 1., 0.,\n",
              "       0., 1., 0., 0., 1., 0., 0., 1., 0., 0., 1., 0., 1., 1., 1., 1., 0.,\n",
              "       1., 0., 0., 0., 1., 0., 0., 1., 0., 0., 0., 0., 1., 1., 0., 0., 0.,\n",
              "       0., 0., 1., 1., 0., 1., 0., 1., 0., 0., 1., 0., 0., 1., 0., 1., 0.,\n",
              "       1., 1., 1., 0., 1., 0., 0., 0., 0., 1., 0., 1., 1., 1., 1., 0., 0.,\n",
              "       1., 0., 0., 0., 1., 0., 0., 0., 0., 0., 0., 1., 0., 0., 1., 1., 1.,\n",
              "       0., 1., 1., 1., 0., 1., 0., 1., 0., 0., 0., 0., 1., 1., 1., 0., 1.,\n",
              "       0., 0., 0., 1., 0., 0., 1., 1., 1., 0., 0., 1., 0., 0., 0., 0., 0.,\n",
              "       0., 0., 1., 0., 1., 1., 0., 0., 1., 0., 0., 0., 0., 1., 0., 0., 1.,\n",
              "       0., 1., 1., 0., 0., 0., 0., 0., 1., 1., 0., 1., 0., 0., 0., 0., 0.,\n",
              "       1., 0., 0., 1., 0., 0., 1., 0., 0., 0., 1., 1., 0., 0., 1., 0., 1.,\n",
              "       0., 1., 1., 1., 0., 0., 1., 0., 0., 0., 0., 0., 0., 0., 1., 0., 0.,\n",
              "       0., 0., 0., 0., 0., 1., 0., 0., 1., 0., 1., 0., 0., 0., 0., 0., 1.,\n",
              "       0., 1., 0., 0., 1., 0., 1., 0., 0., 1., 0., 0., 1., 0., 0., 1., 1.,\n",
              "       0., 0., 1., 1., 1., 0., 1., 1., 0., 0., 0., 0., 0., 0., 0., 0., 1.,\n",
              "       1., 1., 0., 0., 0., 0., 1., 0., 0., 0., 0., 1., 0., 0., 0., 0., 0.,\n",
              "       0., 0., 0., 0., 0., 1., 1., 1., 1., 0., 0., 1., 0., 0., 1., 0., 1.,\n",
              "       0., 0., 1., 0., 1., 0., 0., 0., 0., 1., 0., 0., 1., 0., 1., 0., 0.,\n",
              "       0., 1., 1., 0., 0., 1., 1., 0., 0., 0., 0., 0., 1., 1., 1., 1., 0.,\n",
              "       1., 0., 1., 1., 1., 0., 0., 0., 0., 0., 0., 1., 0., 1., 1., 0., 1.,\n",
              "       0., 0., 0., 0., 0., 0., 0., 0., 0., 1., 1., 1., 1., 1., 0., 0., 1.,\n",
              "       1., 1., 0., 0., 0., 1., 1., 0., 0., 1., 0., 0., 1., 0., 0., 1., 0.,\n",
              "       0., 1., 0., 0., 0., 0., 0., 1., 0., 1., 1., 0., 0., 0., 0., 1., 1.,\n",
              "       0., 0., 0., 0., 1., 0., 1., 1., 1., 1., 0., 0., 0., 0., 0., 0., 0.,\n",
              "       0., 0., 0., 0., 0., 0., 1., 1., 1., 1., 0., 0., 1., 0., 0., 0., 1.,\n",
              "       0., 0., 1., 1., 1., 0., 0., 1., 0., 0., 0., 1., 1., 0., 0., 0., 0.,\n",
              "       0., 0., 0., 1., 1., 0., 1., 1., 0., 1., 0., 1., 0., 0., 0., 0., 0.,\n",
              "       0., 1., 0., 1., 0., 1., 0., 0., 0., 1., 0., 1., 0., 0., 0., 0., 0.,\n",
              "       1., 0., 0., 0., 1., 0., 0., 1., 0., 0., 0., 0., 0., 0., 0., 0., 0.,\n",
              "       0., 0., 1., 1., 0., 0., 0., 1., 1., 1., 0., 1., 0., 1., 1., 0., 1.,\n",
              "       0., 1., 1., 0., 0., 0., 0., 0., 1., 0., 1., 0., 1., 0., 0., 0., 1.,\n",
              "       0., 0., 1., 1., 1., 1., 0., 0., 0., 0., 1., 1., 0., 1., 1., 0., 0.,\n",
              "       0., 0., 1., 1., 1., 0., 0., 0., 0., 0., 0., 0., 0., 0., 0., 0., 1.,\n",
              "       0., 1., 0., 0., 0., 1., 0., 0., 0., 0., 0., 1., 0., 0., 0., 0., 0.,\n",
              "       0., 0., 1., 0., 0., 1., 0., 0., 0., 0., 1., 1., 1., 0., 1., 0., 1.,\n",
              "       0., 1., 0., 0., 0., 1., 0., 0., 0., 0., 0., 0., 0., 0., 0., 1., 0.,\n",
              "       0., 0., 0., 0., 1., 0., 0., 0., 1., 1., 0., 0., 0., 0., 1., 0., 0.,\n",
              "       1., 1., 1., 1., 1., 0., 0., 0., 1., 1., 1., 0., 1., 0., 0., 0., 0.,\n",
              "       0., 0., 0., 1., 1., 0., 1., 1., 0., 0., 0., 1., 0., 0.],\n",
              "      dtype=float32)>"
            ]
          },
          "metadata": {
            "tags": []
          },
          "execution_count": 55
        }
      ]
    },
    {
      "cell_type": "code",
      "metadata": {
        "colab": {
          "base_uri": "https://localhost:8080/"
        },
        "id": "I-kKuCJ2SjMx",
        "outputId": "81c5c3b4-5c4d-47c9-a2c9-40316cab78f8"
      },
      "source": [
        "#Calcluate model 2 results \n",
        "model2_results = calculate_results(y_true=val_labels, y_pred=model2_preds)\n",
        "model2_results"
      ],
      "execution_count": 56,
      "outputs": [
        {
          "output_type": "execute_result",
          "data": {
            "text/plain": [
              "{'accuracy': 77.03412073490814,\n",
              " 'f1': 0.7663654279032698,\n",
              " 'precision': 0.776479876261699,\n",
              " 'recall': 0.7703412073490814}"
            ]
          },
          "metadata": {
            "tags": []
          },
          "execution_count": 56
        }
      ]
    },
    {
      "cell_type": "code",
      "metadata": {
        "colab": {
          "base_uri": "https://localhost:8080/"
        },
        "id": "sxQ5NEwRSugu",
        "outputId": "5658596d-622e-4abb-9664-909642307fc3"
      },
      "source": [
        "baseline_results"
      ],
      "execution_count": 57,
      "outputs": [
        {
          "output_type": "execute_result",
          "data": {
            "text/plain": [
              "{'accuracy': 79.26509186351706,\n",
              " 'f1': 0.7862189758049549,\n",
              " 'precision': 0.8111390004213173,\n",
              " 'recall': 0.7926509186351706}"
            ]
          },
          "metadata": {
            "tags": []
          },
          "execution_count": 57
        }
      ]
    },
    {
      "cell_type": "markdown",
      "metadata": {
        "id": "Tp3cEfy7Sy1w"
      },
      "source": [
        "#Model 3 : GRU cell \n",
        "\n",
        "Another popular and effective RNN componet is the GRU or gated recurrent unit \n"
      ]
    },
    {
      "cell_type": "code",
      "metadata": {
        "id": "PK2MKnp8W-al"
      },
      "source": [
        "#Build RNN using GRU cell \n",
        "\n",
        "inputs = layers.Input(shape=(1,),dtype=\"string\")\n",
        "x = text_vectorizer(inputs)\n",
        "x = embedding(x)\n",
        "x = layers.GRU(units=64,return_sequences=True)(x) #Stack recurrent cells you need return _sequences \n",
        "x = layers.LSTM(64, return_sequences=True)(x)\n",
        "x = layers.GRU(99)(x)\n",
        "x = layers.Dense(64,activation='relu')(x)\n",
        "outputs = layers.Dense(1, activation='sigmoid')(x)\n",
        "model3= tf.keras.Model(inputs,outputs)\n",
        "\n"
      ],
      "execution_count": 58,
      "outputs": []
    },
    {
      "cell_type": "code",
      "metadata": {
        "colab": {
          "base_uri": "https://localhost:8080/"
        },
        "id": "ePVESk2rXQWu",
        "outputId": "b2189edc-ca22-42c0-911a-780da3c4f0a4"
      },
      "source": [
        "model3.summary()\n"
      ],
      "execution_count": 59,
      "outputs": [
        {
          "output_type": "stream",
          "text": [
            "Model: \"model\"\n",
            "_________________________________________________________________\n",
            "Layer (type)                 Output Shape              Param #   \n",
            "=================================================================\n",
            "input_3 (InputLayer)         [(None, 1)]               0         \n",
            "_________________________________________________________________\n",
            "text_vectorization_1 (TextVe (None, 15)                0         \n",
            "_________________________________________________________________\n",
            "embedding (Embedding)        (None, 15, 128)           1280000   \n",
            "_________________________________________________________________\n",
            "gru (GRU)                    (None, 15, 64)            37248     \n",
            "_________________________________________________________________\n",
            "lstm_2 (LSTM)                (None, 15, 64)            33024     \n",
            "_________________________________________________________________\n",
            "gru_1 (GRU)                  (None, 99)                49005     \n",
            "_________________________________________________________________\n",
            "dense_3 (Dense)              (None, 64)                6400      \n",
            "_________________________________________________________________\n",
            "dense_4 (Dense)              (None, 1)                 65        \n",
            "=================================================================\n",
            "Total params: 1,405,742\n",
            "Trainable params: 1,405,742\n",
            "Non-trainable params: 0\n",
            "_________________________________________________________________\n"
          ],
          "name": "stdout"
        }
      ]
    },
    {
      "cell_type": "code",
      "metadata": {
        "id": "_0VmJ3baY7lZ"
      },
      "source": [
        "model3.compile(\n",
        "  loss = tf.keras.losses.BinaryCrossentropy(),\n",
        "  optimizer=tf.keras.optimizers.Adam(),\n",
        "  metrics=['accuracy']\n",
        ")"
      ],
      "execution_count": 60,
      "outputs": []
    },
    {
      "cell_type": "code",
      "metadata": {
        "colab": {
          "base_uri": "https://localhost:8080/"
        },
        "id": "3joxDSvGZtJS",
        "outputId": "1233f559-ccce-40cd-eb15-a148f5fd2797"
      },
      "source": [
        "history3 = model3.fit(x=train_sentences,\n",
        "                      y=train_labels,\n",
        "                      epochs=5,\n",
        "                      validation_data=(val_sentences,val_labels),\n",
        "                      callbacks=[create_tensorboard_callback(Save_dir,\n",
        "                                                             \"Model3_GRU\")])"
      ],
      "execution_count": 61,
      "outputs": [
        {
          "output_type": "stream",
          "text": [
            "Saving TensorBoard log files to: model_logs/Model3_GRU/20210720-225753\n",
            "Epoch 1/5\n",
            "215/215 [==============================] - 18s 59ms/step - loss: 0.1841 - accuracy: 0.9244 - val_loss: 0.6321 - val_accuracy: 0.7638\n",
            "Epoch 2/5\n",
            "215/215 [==============================] - 11s 52ms/step - loss: 0.0907 - accuracy: 0.9657 - val_loss: 1.1286 - val_accuracy: 0.7717\n",
            "Epoch 3/5\n",
            "215/215 [==============================] - 11s 52ms/step - loss: 0.0712 - accuracy: 0.9699 - val_loss: 1.1675 - val_accuracy: 0.7703\n",
            "Epoch 4/5\n",
            "215/215 [==============================] - 11s 51ms/step - loss: 0.0658 - accuracy: 0.9708 - val_loss: 1.3134 - val_accuracy: 0.7572\n",
            "Epoch 5/5\n",
            "215/215 [==============================] - 11s 52ms/step - loss: 0.0555 - accuracy: 0.9753 - val_loss: 1.0931 - val_accuracy: 0.7664\n"
          ],
          "name": "stdout"
        }
      ]
    },
    {
      "cell_type": "code",
      "metadata": {
        "colab": {
          "base_uri": "https://localhost:8080/"
        },
        "id": "_zv_d6_yZ8P8",
        "outputId": "3dd59d1a-24ef-494b-951a-8b74762d1fe5"
      },
      "source": [
        "model3_predprobs = model3.predict(val_sentences)\n",
        "model3_predprobs[:10]"
      ],
      "execution_count": 62,
      "outputs": [
        {
          "output_type": "execute_result",
          "data": {
            "text/plain": [
              "array([[5.1141679e-03],\n",
              "       [6.7957348e-01],\n",
              "       [9.9783069e-01],\n",
              "       [8.2925916e-02],\n",
              "       [3.3705142e-05],\n",
              "       [9.9492168e-01],\n",
              "       [9.0306497e-01],\n",
              "       [9.9880815e-01],\n",
              "       [9.9895740e-01],\n",
              "       [8.0630684e-01]], dtype=float32)"
            ]
          },
          "metadata": {
            "tags": []
          },
          "execution_count": 62
        }
      ]
    },
    {
      "cell_type": "code",
      "metadata": {
        "colab": {
          "base_uri": "https://localhost:8080/"
        },
        "id": "ECrE08gEaMKX",
        "outputId": "22b22c63-b0dd-4131-b320-c5305dbd3e62"
      },
      "source": [
        "model3_pred = tf.squeeze(tf.round(model3_predprobs))\n",
        "model3_pred[10:]"
      ],
      "execution_count": 63,
      "outputs": [
        {
          "output_type": "execute_result",
          "data": {
            "text/plain": [
              "<tf.Tensor: shape=(752,), dtype=float32, numpy=\n",
              "array([0., 0., 0., 0., 0., 0., 0., 0., 0., 1., 1., 0., 1., 0., 1., 1., 0.,\n",
              "       0., 0., 1., 1., 0., 0., 0., 1., 0., 1., 0., 0., 1., 0., 0., 0., 0.,\n",
              "       1., 1., 1., 1., 0., 0., 0., 0., 0., 0., 0., 0., 0., 1., 0., 0., 0.,\n",
              "       1., 1., 0., 1., 1., 1., 0., 1., 0., 0., 0., 1., 0., 1., 1., 0., 1.,\n",
              "       1., 0., 0., 0., 1., 0., 0., 0., 0., 0., 0., 1., 1., 0., 1., 0., 1.,\n",
              "       1., 1., 1., 1., 1., 1., 0., 0., 1., 1., 1., 1., 1., 0., 1., 1., 0.,\n",
              "       1., 0., 0., 0., 1., 1., 0., 0., 1., 0., 0., 1., 1., 0., 1., 0., 0.,\n",
              "       1., 0., 1., 1., 1., 1., 0., 1., 1., 0., 0., 1., 1., 0., 1., 0., 0.,\n",
              "       0., 0., 0., 1., 0., 0., 0., 0., 0., 1., 1., 0., 1., 0., 1., 0., 0.,\n",
              "       1., 0., 0., 1., 0., 1., 0., 1., 1., 1., 0., 1., 0., 1., 0., 1., 1.,\n",
              "       0., 1., 1., 1., 1., 0., 0., 1., 0., 0., 0., 1., 0., 0., 0., 0., 0.,\n",
              "       0., 1., 0., 0., 1., 1., 1., 0., 1., 1., 1., 0., 1., 0., 1., 0., 0.,\n",
              "       0., 0., 1., 1., 1., 1., 1., 0., 0., 0., 1., 0., 0., 1., 1., 1., 0.,\n",
              "       0., 1., 0., 0., 0., 0., 0., 0., 0., 1., 0., 1., 1., 0., 0., 1., 0.,\n",
              "       0., 0., 0., 1., 0., 0., 1., 0., 1., 1., 0., 0., 0., 0., 0., 1., 1.,\n",
              "       0., 1., 0., 0., 0., 0., 0., 1., 0., 0., 1., 0., 0., 1., 0., 0., 0.,\n",
              "       1., 1., 0., 0., 1., 0., 1., 0., 1., 1., 0., 0., 0., 1., 0., 0., 0.,\n",
              "       1., 0., 0., 0., 1., 0., 0., 0., 0., 0., 0., 0., 1., 0., 0., 1., 0.,\n",
              "       1., 0., 0., 0., 0., 0., 1., 0., 1., 0., 0., 1., 0., 1., 0., 0., 1.,\n",
              "       0., 0., 1., 0., 0., 1., 1., 0., 0., 1., 1., 1., 0., 1., 1., 0., 0.,\n",
              "       0., 0., 0., 1., 0., 0., 1., 1., 1., 0., 0., 0., 0., 1., 0., 0., 0.,\n",
              "       0., 1., 0., 0., 0., 0., 0., 1., 0., 0., 0., 0., 1., 1., 1., 1., 0.,\n",
              "       1., 1., 1., 0., 1., 0., 1., 0., 0., 1., 0., 1., 0., 0., 0., 0., 1.,\n",
              "       0., 0., 1., 0., 1., 0., 0., 0., 1., 1., 0., 0., 0., 1., 1., 0., 0.,\n",
              "       0., 0., 1., 1., 1., 1., 0., 1., 0., 1., 1., 1., 0., 0., 0., 0., 0.,\n",
              "       0., 1., 0., 1., 1., 0., 1., 0., 0., 0., 1., 0., 0., 0., 0., 0., 1.,\n",
              "       1., 1., 1., 1., 0., 0., 0., 1., 1., 0., 0., 0., 1., 1., 0., 0., 1.,\n",
              "       0., 0., 1., 0., 0., 1., 0., 0., 1., 0., 0., 0., 0., 0., 1., 0., 1.,\n",
              "       1., 0., 0., 0., 0., 1., 1., 0., 0., 0., 0., 1., 0., 1., 1., 1., 1.,\n",
              "       1., 0., 0., 1., 1., 0., 0., 0., 0., 0., 0., 0., 0., 1., 1., 1., 1.,\n",
              "       0., 0., 1., 0., 0., 0., 1., 0., 0., 1., 1., 1., 0., 0., 1., 0., 0.,\n",
              "       0., 1., 1., 0., 0., 1., 0., 0., 0., 0., 1., 1., 0., 1., 1., 0., 1.,\n",
              "       0., 1., 0., 0., 0., 0., 0., 0., 0., 0., 1., 0., 1., 1., 0., 0., 1.,\n",
              "       0., 1., 0., 0., 0., 0., 0., 1., 0., 0., 0., 1., 0., 0., 1., 0., 0.,\n",
              "       0., 0., 0., 0., 0., 0., 0., 0., 0., 1., 1., 0., 0., 0., 1., 1., 1.,\n",
              "       0., 1., 0., 1., 1., 0., 1., 0., 1., 1., 0., 0., 1., 0., 0., 1., 0.,\n",
              "       1., 0., 1., 1., 0., 0., 1., 0., 0., 1., 1., 1., 1., 0., 1., 0., 0.,\n",
              "       1., 1., 0., 1., 1., 0., 0., 0., 0., 1., 1., 1., 0., 0., 0., 1., 0.,\n",
              "       0., 1., 0., 0., 0., 1., 1., 0., 1., 0., 0., 0., 1., 1., 0., 0., 0.,\n",
              "       0., 1., 0., 1., 0., 0., 1., 1., 0., 1., 0., 0., 1., 0., 0., 0., 0.,\n",
              "       1., 1., 1., 0., 1., 0., 1., 0., 1., 0., 0., 0., 1., 0., 0., 0., 0.,\n",
              "       0., 0., 0., 0., 0., 1., 0., 0., 0., 0., 0., 1., 0., 0., 0., 1., 1.,\n",
              "       0., 0., 0., 0., 1., 0., 0., 1., 1., 1., 1., 1., 0., 0., 0., 1., 1.,\n",
              "       1., 0., 1., 1., 0., 0., 0., 0., 0., 0., 1., 1., 0., 1., 1., 0., 0.,\n",
              "       1., 1., 0., 0.], dtype=float32)>"
            ]
          },
          "metadata": {
            "tags": []
          },
          "execution_count": 63
        }
      ]
    },
    {
      "cell_type": "code",
      "metadata": {
        "colab": {
          "base_uri": "https://localhost:8080/"
        },
        "id": "7Ij6_ijIaUAw",
        "outputId": "40db9261-00ce-448f-d634-4ee6ac00b305"
      },
      "source": [
        "model3_results = calculate_results(y_true=val_labels, y_pred=model3_pred)\n",
        "model3_results"
      ],
      "execution_count": 64,
      "outputs": [
        {
          "output_type": "execute_result",
          "data": {
            "text/plain": [
              "{'accuracy': 76.64041994750657,\n",
              " 'f1': 0.7646647680054942,\n",
              " 'precision': 0.7672473559947978,\n",
              " 'recall': 0.7664041994750657}"
            ]
          },
          "metadata": {
            "tags": []
          },
          "execution_count": 64
        }
      ]
    },
    {
      "cell_type": "code",
      "metadata": {
        "colab": {
          "base_uri": "https://localhost:8080/"
        },
        "id": "kr8I_mEyaokx",
        "outputId": "4ea93cf8-fae1-4fb6-c849-b21d4246450c"
      },
      "source": [
        "baseline_results"
      ],
      "execution_count": 65,
      "outputs": [
        {
          "output_type": "execute_result",
          "data": {
            "text/plain": [
              "{'accuracy': 79.26509186351706,\n",
              " 'f1': 0.7862189758049549,\n",
              " 'precision': 0.8111390004213173,\n",
              " 'recall': 0.7926509186351706}"
            ]
          },
          "metadata": {
            "tags": []
          },
          "execution_count": 65
        }
      ]
    },
    {
      "cell_type": "markdown",
      "metadata": {
        "id": "rZ0BkL0nasn2"
      },
      "source": [
        "#Model4 : Bidirectioanl "
      ]
    },
    {
      "cell_type": "code",
      "metadata": {
        "id": "reKue0Kaey5u"
      },
      "source": [
        "from keras.layers import LSTM\n",
        "\n",
        "inputs = tf.keras.Input(shape=(1,),dtype=\"string\")\n",
        "x = text_vectorizer(inputs)\n",
        "x = embedding(x)\n",
        "x = layers.Bidirectional(layers.LSTM(64,return_sequences=True))(x)\n",
        "x = layers.Bidirectional(layers.GRU(64))(x)\n",
        "outputs = layers.Dense(1, activation='sigmoid')(x)\n",
        "\n",
        "model4 = tf.keras.Model(inputs,outputs)\n"
      ],
      "execution_count": 66,
      "outputs": []
    },
    {
      "cell_type": "code",
      "metadata": {
        "colab": {
          "base_uri": "https://localhost:8080/"
        },
        "id": "OSFff1MVe9Jk",
        "outputId": "91cb6cac-042e-4c30-a6aa-2d2ad0f2e92a"
      },
      "source": [
        " model4.summary()"
      ],
      "execution_count": 67,
      "outputs": [
        {
          "output_type": "stream",
          "text": [
            "Model: \"model_1\"\n",
            "_________________________________________________________________\n",
            "Layer (type)                 Output Shape              Param #   \n",
            "=================================================================\n",
            "input_4 (InputLayer)         [(None, 1)]               0         \n",
            "_________________________________________________________________\n",
            "text_vectorization_1 (TextVe (None, 15)                0         \n",
            "_________________________________________________________________\n",
            "embedding (Embedding)        (None, 15, 128)           1280000   \n",
            "_________________________________________________________________\n",
            "bidirectional (Bidirectional (None, 15, 128)           98816     \n",
            "_________________________________________________________________\n",
            "bidirectional_1 (Bidirection (None, 128)               74496     \n",
            "_________________________________________________________________\n",
            "dense_5 (Dense)              (None, 1)                 129       \n",
            "=================================================================\n",
            "Total params: 1,453,441\n",
            "Trainable params: 1,453,441\n",
            "Non-trainable params: 0\n",
            "_________________________________________________________________\n"
          ],
          "name": "stdout"
        }
      ]
    },
    {
      "cell_type": "code",
      "metadata": {
        "id": "P-e88b1WxTxX"
      },
      "source": [
        "model4.compile(\n",
        "    loss = tf.keras.losses.BinaryCrossentropy(),\n",
        "    optimizer= tf.keras.optimizers.Adam(),\n",
        "    metrics=['accuracy']\n",
        ")"
      ],
      "execution_count": 68,
      "outputs": []
    },
    {
      "cell_type": "code",
      "metadata": {
        "colab": {
          "base_uri": "https://localhost:8080/"
        },
        "id": "nTsoq-gcxcLq",
        "outputId": "d98bb354-fd16-4437-b73d-abdf8e9efff6"
      },
      "source": [
        "history4 = model4.fit(\n",
        "    x=train_sentences,\n",
        "    y=train_labels,\n",
        "    epochs=5,\n",
        "    validation_data=(val_sentences,val_labels),\n",
        "    callbacks=[create_tensorboard_callback(Save_dir,\n",
        "                                           \"Model4_Bidirectional\")]\n",
        ")"
      ],
      "execution_count": 69,
      "outputs": [
        {
          "output_type": "stream",
          "text": [
            "Saving TensorBoard log files to: model_logs/Model4_Bidirectional/20210720-225939\n",
            "Epoch 1/5\n",
            "215/215 [==============================] - 22s 72ms/step - loss: 0.1331 - accuracy: 0.9492 - val_loss: 0.8464 - val_accuracy: 0.7612\n",
            "Epoch 2/5\n",
            "215/215 [==============================] - 13s 60ms/step - loss: 0.0636 - accuracy: 0.9712 - val_loss: 1.3142 - val_accuracy: 0.7625\n",
            "Epoch 3/5\n",
            "215/215 [==============================] - 13s 61ms/step - loss: 0.0500 - accuracy: 0.9761 - val_loss: 1.0881 - val_accuracy: 0.7192\n",
            "Epoch 4/5\n",
            "215/215 [==============================] - 13s 63ms/step - loss: 0.0518 - accuracy: 0.9745 - val_loss: 1.3689 - val_accuracy: 0.7651\n",
            "Epoch 5/5\n",
            "215/215 [==============================] - 13s 62ms/step - loss: 0.0519 - accuracy: 0.9765 - val_loss: 1.2780 - val_accuracy: 0.7559\n"
          ],
          "name": "stdout"
        }
      ]
    },
    {
      "cell_type": "code",
      "metadata": {
        "colab": {
          "base_uri": "https://localhost:8080/"
        },
        "id": "sQMw5TQLxokS",
        "outputId": "9a5417e5-1c9f-4941-8bed-fc21f860281b"
      },
      "source": [
        "model4_pred_probs = model4.predict(val_sentences)\n",
        "model4_pred_probs[:10]"
      ],
      "execution_count": 70,
      "outputs": [
        {
          "output_type": "execute_result",
          "data": {
            "text/plain": [
              "array([[3.5086781e-01],\n",
              "       [6.7767280e-01],\n",
              "       [9.9986541e-01],\n",
              "       [2.1615046e-01],\n",
              "       [5.6401477e-05],\n",
              "       [9.9952543e-01],\n",
              "       [3.9426634e-01],\n",
              "       [9.9994767e-01],\n",
              "       [9.9994433e-01],\n",
              "       [8.6891115e-01]], dtype=float32)"
            ]
          },
          "metadata": {
            "tags": []
          },
          "execution_count": 70
        }
      ]
    },
    {
      "cell_type": "code",
      "metadata": {
        "colab": {
          "base_uri": "https://localhost:8080/"
        },
        "id": "vWMPW7ntx22y",
        "outputId": "b2e9e2db-fa52-4861-d74c-2fcc195e4688"
      },
      "source": [
        "model4_pred = tf.squeeze(tf.round(model4_pred_probs))\n",
        "model4_pred"
      ],
      "execution_count": 71,
      "outputs": [
        {
          "output_type": "execute_result",
          "data": {
            "text/plain": [
              "<tf.Tensor: shape=(762,), dtype=float32, numpy=\n",
              "array([0., 1., 1., 0., 0., 1., 0., 1., 1., 1., 0., 1., 0., 0., 0., 0., 0.,\n",
              "       0., 0., 1., 1., 0., 1., 0., 1., 1., 0., 0., 0., 0., 1., 0., 0., 0.,\n",
              "       1., 0., 1., 0., 0., 1., 0., 0., 0., 0., 1., 1., 1., 1., 0., 1., 0.,\n",
              "       0., 1., 0., 1., 0., 0., 1., 0., 0., 0., 1., 1., 0., 1., 1., 1., 0.,\n",
              "       1., 0., 0., 0., 1., 0., 1., 1., 0., 1., 0., 0., 0., 0., 1., 0., 0.,\n",
              "       0., 0., 0., 0., 1., 1., 0., 1., 0., 1., 1., 0., 1., 1., 1., 1., 0.,\n",
              "       0., 1., 1., 0., 1., 1., 0., 1., 1., 0., 1., 0., 0., 0., 0., 1., 0.,\n",
              "       0., 1., 0., 0., 1., 1., 0., 1., 0., 0., 1., 0., 1., 1., 1., 1., 0.,\n",
              "       1., 1., 0., 0., 1., 1., 0., 1., 0., 0., 0., 0., 0., 1., 0., 0., 0.,\n",
              "       0., 0., 1., 1., 0., 1., 0., 1., 0., 1., 1., 0., 0., 1., 0., 1., 1.,\n",
              "       1., 1., 1., 0., 1., 1., 0., 0., 0., 1., 0., 1., 1., 1., 1., 0., 0.,\n",
              "       1., 0., 0., 0., 1., 0., 0., 0., 0., 0., 0., 1., 0., 0., 1., 1., 1.,\n",
              "       0., 1., 1., 1., 1., 1., 0., 1., 0., 1., 0., 0., 1., 1., 1., 0., 1.,\n",
              "       0., 0., 0., 1., 0., 0., 1., 1., 1., 0., 0., 1., 0., 1., 0., 0., 0.,\n",
              "       0., 0., 1., 0., 1., 1., 0., 0., 1., 0., 0., 0., 0., 1., 0., 0., 1.,\n",
              "       0., 1., 1., 0., 0., 0., 0., 0., 1., 1., 1., 1., 0., 0., 0., 0., 0.,\n",
              "       1., 0., 0., 1., 0., 0., 1., 0., 0., 0., 1., 1., 0., 0., 1., 0., 1.,\n",
              "       0., 1., 1., 1., 0., 0., 1., 0., 0., 0., 1., 0., 0., 0., 1., 0., 0.,\n",
              "       0., 0., 0., 0., 0., 1., 0., 0., 1., 0., 1., 0., 0., 0., 0., 0., 1.,\n",
              "       0., 1., 0., 0., 1., 0., 1., 0., 0., 1., 0., 0., 1., 0., 0., 0., 1.,\n",
              "       0., 0., 1., 1., 1., 0., 1., 1., 0., 0., 0., 0., 0., 1., 1., 0., 1.,\n",
              "       1., 1., 0., 0., 0., 0., 1., 0., 0., 0., 0., 1., 0., 0., 0., 0., 0.,\n",
              "       1., 0., 0., 0., 0., 1., 1., 1., 1., 0., 1., 1., 1., 1., 1., 0., 1.,\n",
              "       0., 0., 1., 0., 1., 0., 0., 0., 0., 1., 0., 0., 1., 0., 1., 0., 0.,\n",
              "       0., 1., 1., 0., 0., 1., 1., 1., 0., 0., 0., 0., 1., 1., 1., 1., 0.,\n",
              "       0., 0., 1., 1., 1., 0., 0., 0., 0., 1., 0., 1., 0., 1., 1., 0., 1.,\n",
              "       0., 0., 0., 1., 0., 0., 0., 0., 0., 1., 1., 1., 1., 1., 0., 0., 1.,\n",
              "       1., 1., 0., 0., 0., 1., 1., 0., 0., 1., 0., 0., 1., 0., 0., 1., 0.,\n",
              "       1., 1., 0., 0., 0., 0., 0., 1., 0., 1., 1., 0., 0., 0., 0., 1., 1.,\n",
              "       0., 0., 0., 0., 1., 0., 1., 1., 1., 1., 1., 0., 0., 1., 1., 0., 0.,\n",
              "       0., 0., 0., 0., 0., 0., 1., 1., 1., 1., 0., 0., 1., 0., 0., 0., 1.,\n",
              "       0., 1., 1., 1., 1., 0., 0., 1., 0., 0., 0., 1., 1., 0., 0., 1., 0.,\n",
              "       0., 0., 0., 1., 1., 1., 1., 1., 0., 1., 0., 1., 0., 0., 0., 0., 0.,\n",
              "       0., 1., 0., 1., 0., 1., 0., 0., 0., 1., 0., 1., 0., 0., 0., 0., 0.,\n",
              "       1., 0., 0., 0., 1., 0., 0., 1., 0., 0., 0., 0., 0., 0., 0., 0., 0.,\n",
              "       0., 0., 1., 1., 0., 0., 0., 1., 1., 1., 0., 1., 0., 1., 1., 0., 1.,\n",
              "       0., 1., 1., 0., 0., 1., 0., 1., 1., 0., 1., 0., 1., 1., 0., 0., 1.,\n",
              "       0., 0., 1., 1., 1., 1., 0., 1., 0., 1., 1., 1., 0., 1., 1., 0., 0.,\n",
              "       0., 0., 1., 1., 1., 0., 0., 0., 1., 0., 0., 1., 0., 0., 0., 1., 1.,\n",
              "       0., 1., 0., 0., 0., 1., 1., 0., 1., 0., 0., 1., 0., 1., 0., 0., 1.,\n",
              "       1., 0., 1., 0., 0., 1., 0., 0., 0., 0., 0., 1., 1., 0., 1., 0., 1.,\n",
              "       0., 1., 0., 0., 0., 1., 0., 0., 0., 0., 0., 0., 0., 0., 0., 0., 0.,\n",
              "       0., 0., 0., 0., 1., 0., 0., 0., 1., 1., 0., 0., 0., 0., 1., 0., 0.,\n",
              "       1., 1., 1., 1., 1., 0., 0., 1., 1., 1., 1., 0., 1., 0., 0., 0., 0.,\n",
              "       0., 0., 0., 1., 1., 0., 1., 1., 0., 0., 1., 1., 0., 0.],\n",
              "      dtype=float32)>"
            ]
          },
          "metadata": {
            "tags": []
          },
          "execution_count": 71
        }
      ]
    },
    {
      "cell_type": "code",
      "metadata": {
        "id": "6lDZ5t2Ex_dZ"
      },
      "source": [
        "model4_results = calculate_results(val_labels,model4_pred)\n"
      ],
      "execution_count": 72,
      "outputs": []
    },
    {
      "cell_type": "code",
      "metadata": {
        "colab": {
          "base_uri": "https://localhost:8080/"
        },
        "id": "4yJqJPd6yIKc",
        "outputId": "fff00378-e53d-4caf-f007-c2ba9087e80a"
      },
      "source": [
        "model4_results"
      ],
      "execution_count": 73,
      "outputs": [
        {
          "output_type": "execute_result",
          "data": {
            "text/plain": [
              "{'accuracy': 75.59055118110236,\n",
              " 'f1': 0.7546752743603138,\n",
              " 'precision': 0.7558252056840676,\n",
              " 'recall': 0.7559055118110236}"
            ]
          },
          "metadata": {
            "tags": []
          },
          "execution_count": 73
        }
      ]
    },
    {
      "cell_type": "code",
      "metadata": {
        "colab": {
          "base_uri": "https://localhost:8080/"
        },
        "id": "MgpuhhPKyLBM",
        "outputId": "15dd185c-46bb-4445-b1ba-a88f6037f5e0"
      },
      "source": [
        "baseline_results"
      ],
      "execution_count": 74,
      "outputs": [
        {
          "output_type": "execute_result",
          "data": {
            "text/plain": [
              "{'accuracy': 79.26509186351706,\n",
              " 'f1': 0.7862189758049549,\n",
              " 'precision': 0.8111390004213173,\n",
              " 'recall': 0.7926509186351706}"
            ]
          },
          "metadata": {
            "tags": []
          },
          "execution_count": 74
        }
      ]
    },
    {
      "cell_type": "markdown",
      "metadata": {
        "id": "4dJzrGLKI1Qp"
      },
      "source": [
        "# Model 5 Conv1D"
      ]
    },
    {
      "cell_type": "code",
      "metadata": {
        "id": "qab_fbbeyMTU"
      },
      "source": [
        "#Model 5 building a Conv1d model \n",
        "\n",
        "inputs = tf.keras.Input(shape=(1,),dtype=\"string\")\n",
        "x = text_vectorizer(inputs)\n",
        "x = embedding(x)\n",
        "x = layers.Conv1D(32,5,activation ='relu')(x)\n",
        "x = layers.Conv1D(32,5, activation ='relu')(x)\n",
        "x = layers.Dropout(0.5)(x)\n",
        "x = layers.GlobalMaxPool1D()(x)\n",
        "x = layers.Flatten()(x)\n",
        "outputs = layers.Dense(1,activation='sigmoid')(x)\n",
        "\n",
        "model5 = tf.keras.Model(inputs,outputs)"
      ],
      "execution_count": 75,
      "outputs": []
    },
    {
      "cell_type": "code",
      "metadata": {
        "id": "KHdpucJJ0lFD"
      },
      "source": [
        "model5.compile(\n",
        "    loss= tf.keras.losses.BinaryCrossentropy(),\n",
        "    optimizer = tf.keras.optimizers.Adam(),\n",
        "    metrics=['accuracy']\n",
        ")"
      ],
      "execution_count": 76,
      "outputs": []
    },
    {
      "cell_type": "code",
      "metadata": {
        "colab": {
          "base_uri": "https://localhost:8080/"
        },
        "id": "SKN6sHMqKKvk",
        "outputId": "b5509683-f3eb-4ab8-d212-e60e8da7215c"
      },
      "source": [
        "model5.summary()"
      ],
      "execution_count": 77,
      "outputs": [
        {
          "output_type": "stream",
          "text": [
            "Model: \"model_2\"\n",
            "_________________________________________________________________\n",
            "Layer (type)                 Output Shape              Param #   \n",
            "=================================================================\n",
            "input_5 (InputLayer)         [(None, 1)]               0         \n",
            "_________________________________________________________________\n",
            "text_vectorization_1 (TextVe (None, 15)                0         \n",
            "_________________________________________________________________\n",
            "embedding (Embedding)        (None, 15, 128)           1280000   \n",
            "_________________________________________________________________\n",
            "conv1d (Conv1D)              (None, 11, 32)            20512     \n",
            "_________________________________________________________________\n",
            "conv1d_1 (Conv1D)            (None, 7, 32)             5152      \n",
            "_________________________________________________________________\n",
            "dropout (Dropout)            (None, 7, 32)             0         \n",
            "_________________________________________________________________\n",
            "global_max_pooling1d_1 (Glob (None, 32)                0         \n",
            "_________________________________________________________________\n",
            "flatten (Flatten)            (None, 32)                0         \n",
            "_________________________________________________________________\n",
            "dense_6 (Dense)              (None, 1)                 33        \n",
            "=================================================================\n",
            "Total params: 1,305,697\n",
            "Trainable params: 1,305,697\n",
            "Non-trainable params: 0\n",
            "_________________________________________________________________\n"
          ],
          "name": "stdout"
        }
      ]
    },
    {
      "cell_type": "code",
      "metadata": {
        "colab": {
          "base_uri": "https://localhost:8080/"
        },
        "id": "abarlgnN2Gyw",
        "outputId": "5b4ce670-be1b-44a6-8b2f-79b02e786a23"
      },
      "source": [
        "history5 = model5.fit(\n",
        "    train_sentences,\n",
        "    train_labels,\n",
        "    epochs=5,\n",
        "    validation_data = (val_sentences,val_labels),\n",
        "    callbacks=[create_tensorboard_callback(Save_dir,\n",
        "                                           \"Conv1dModel\")]\n",
        ")"
      ],
      "execution_count": 78,
      "outputs": [
        {
          "output_type": "stream",
          "text": [
            "Saving TensorBoard log files to: model_logs/Conv1dModel/20210720-230117\n",
            "Epoch 1/5\n",
            "215/215 [==============================] - 6s 25ms/step - loss: 0.1762 - accuracy: 0.9365 - val_loss: 0.5861 - val_accuracy: 0.7664\n",
            "Epoch 2/5\n",
            "215/215 [==============================] - 5s 22ms/step - loss: 0.0740 - accuracy: 0.9704 - val_loss: 0.6992 - val_accuracy: 0.7585\n",
            "Epoch 3/5\n",
            "215/215 [==============================] - 5s 22ms/step - loss: 0.0548 - accuracy: 0.9772 - val_loss: 0.7561 - val_accuracy: 0.7349\n",
            "Epoch 4/5\n",
            "215/215 [==============================] - 5s 22ms/step - loss: 0.0446 - accuracy: 0.9794 - val_loss: 0.8959 - val_accuracy: 0.7507\n",
            "Epoch 5/5\n",
            "215/215 [==============================] - 5s 22ms/step - loss: 0.0428 - accuracy: 0.9800 - val_loss: 0.8641 - val_accuracy: 0.7454\n"
          ],
          "name": "stdout"
        }
      ]
    },
    {
      "cell_type": "code",
      "metadata": {
        "colab": {
          "base_uri": "https://localhost:8080/"
        },
        "id": "q6fZ1cWf2mT-",
        "outputId": "adc4aa59-190c-401d-9547-679c4b886198"
      },
      "source": [
        "model5_pred_probs = model5.predict(val_sentences)\n",
        "model5_pred_probs[:10]"
      ],
      "execution_count": 79,
      "outputs": [
        {
          "output_type": "execute_result",
          "data": {
            "text/plain": [
              "array([[2.0666900e-01],\n",
              "       [4.2824739e-01],\n",
              "       [9.8725438e-01],\n",
              "       [2.8084588e-01],\n",
              "       [9.5160933e-05],\n",
              "       [9.6838069e-01],\n",
              "       [3.7448749e-01],\n",
              "       [9.9980736e-01],\n",
              "       [9.9968958e-01],\n",
              "       [3.6430055e-01]], dtype=float32)"
            ]
          },
          "metadata": {
            "tags": []
          },
          "execution_count": 79
        }
      ]
    },
    {
      "cell_type": "code",
      "metadata": {
        "colab": {
          "base_uri": "https://localhost:8080/"
        },
        "id": "lhZO0YCp2_Sr",
        "outputId": "8ee8d722-f1ad-40cf-dcca-7176a47ba5a5"
      },
      "source": [
        "model5_pred = tf.squeeze(tf.round(model5_pred_probs))\n",
        "model5_pred[:10]"
      ],
      "execution_count": 80,
      "outputs": [
        {
          "output_type": "execute_result",
          "data": {
            "text/plain": [
              "<tf.Tensor: shape=(10,), dtype=float32, numpy=array([0., 0., 1., 0., 0., 1., 0., 1., 1., 0.], dtype=float32)>"
            ]
          },
          "metadata": {
            "tags": []
          },
          "execution_count": 80
        }
      ]
    },
    {
      "cell_type": "code",
      "metadata": {
        "id": "uFkWyFCC3Lf5"
      },
      "source": [
        "model5_results_conv1d = calculate_results(y_true=val_labels,\n",
        "                                          y_pred=model5_pred) "
      ],
      "execution_count": 81,
      "outputs": []
    },
    {
      "cell_type": "code",
      "metadata": {
        "colab": {
          "base_uri": "https://localhost:8080/"
        },
        "id": "B2PYgA3L4iqb",
        "outputId": "d2161291-1154-4ef2-fa2b-eaa9c6f0c48c"
      },
      "source": [
        "model5_results_conv1d"
      ],
      "execution_count": 82,
      "outputs": [
        {
          "output_type": "execute_result",
          "data": {
            "text/plain": [
              "{'accuracy': 74.54068241469817,\n",
              " 'f1': 0.7416494179074524,\n",
              " 'precision': 0.7488504976420641,\n",
              " 'recall': 0.7454068241469817}"
            ]
          },
          "metadata": {
            "tags": []
          },
          "execution_count": 82
        }
      ]
    },
    {
      "cell_type": "code",
      "metadata": {
        "colab": {
          "base_uri": "https://localhost:8080/"
        },
        "id": "3c-5J33d4lKY",
        "outputId": "0dbe2a07-15de-4d42-ec2e-d1de9fc09cb1"
      },
      "source": [
        "baseline_results"
      ],
      "execution_count": 83,
      "outputs": [
        {
          "output_type": "execute_result",
          "data": {
            "text/plain": [
              "{'accuracy': 79.26509186351706,\n",
              " 'f1': 0.7862189758049549,\n",
              " 'precision': 0.8111390004213173,\n",
              " 'recall': 0.7926509186351706}"
            ]
          },
          "metadata": {
            "tags": []
          },
          "execution_count": 83
        }
      ]
    },
    {
      "cell_type": "code",
      "metadata": {
        "colab": {
          "base_uri": "https://localhost:8080/",
          "height": 163
        },
        "id": "-O555kas4sYB",
        "outputId": "83de24ae-f40d-4798-a868-d917886105ec"
      },
      "source": [
        "model"
      ],
      "execution_count": 84,
      "outputs": [
        {
          "output_type": "error",
          "ename": "NameError",
          "evalue": "ignored",
          "traceback": [
            "\u001b[0;31m---------------------------------------------------------------------------\u001b[0m",
            "\u001b[0;31mNameError\u001b[0m                                 Traceback (most recent call last)",
            "\u001b[0;32m<ipython-input-84-1f8a688cae5d>\u001b[0m in \u001b[0;36m<module>\u001b[0;34m()\u001b[0m\n\u001b[0;32m----> 1\u001b[0;31m \u001b[0mmodel\u001b[0m\u001b[0;34m\u001b[0m\u001b[0;34m\u001b[0m\u001b[0m\n\u001b[0m",
            "\u001b[0;31mNameError\u001b[0m: name 'model' is not defined"
          ]
        }
      ]
    },
    {
      "cell_type": "code",
      "metadata": {
        "colab": {
          "base_uri": "https://localhost:8080/"
        },
        "id": "ogfAv5evPAfy",
        "outputId": "42b11def-0092-48e2-996a-2b7ae534127e"
      },
      "source": [
        "model_1_results"
      ],
      "execution_count": 85,
      "outputs": [
        {
          "output_type": "execute_result",
          "data": {
            "text/plain": [
              "{'accuracy': 78.74015748031496,\n",
              " 'f1': 0.7846966492209201,\n",
              " 'precision': 0.7914920592553047,\n",
              " 'recall': 0.7874015748031497}"
            ]
          },
          "metadata": {
            "tags": []
          },
          "execution_count": 85
        }
      ]
    },
    {
      "cell_type": "markdown",
      "metadata": {
        "id": "5mEyRPofPMKz"
      },
      "source": [
        "#Model 6 Tensorflow Hub pretrained Feature Extractor USE (Universal Sentence Encoder feature extractor)\n"
      ]
    },
    {
      "cell_type": "code",
      "metadata": {
        "colab": {
          "base_uri": "https://localhost:8080/"
        },
        "id": "8Qtw1K2bSjQJ",
        "outputId": "1756acb5-261b-4e8d-d6b7-db297c6dfd91"
      },
      "source": [
        "import tensorflow_hub as hub \n",
        "\n",
        "embed = hub.load(\"https://tfhub.dev/google/universal-sentence-encoder/4\")\n",
        "embed_samples = embed([\"Sample sentece in this thang Universal sentece encoder\"])\n",
        "embed_samples"
      ],
      "execution_count": 86,
      "outputs": [
        {
          "output_type": "execute_result",
          "data": {
            "text/plain": [
              "<tf.Tensor: shape=(1, 512), dtype=float32, numpy=\n",
              "array([[-0.01086276,  0.00486066, -0.0462184 , -0.00986395,  0.03991581,\n",
              "        -0.04516478, -0.04275558,  0.03755782,  0.0351272 ,  0.04666175,\n",
              "        -0.03479398, -0.05556547,  0.02584782,  0.0232118 ,  0.01433577,\n",
              "        -0.07971133, -0.06423113, -0.0529964 ,  0.00936949,  0.04479014,\n",
              "         0.04273517, -0.01798776,  0.04933927,  0.07891709, -0.09073167,\n",
              "         0.07599442, -0.0082547 , -0.01623775,  0.03651225,  0.08523297,\n",
              "         0.04897801,  0.05911262, -0.03470666,  0.00011134, -0.08829936,\n",
              "         0.00072795,  0.00193313,  0.07914445, -0.07350788, -0.00654637,\n",
              "         0.00037975,  0.04617463, -0.02172023, -0.04747603, -0.01877213,\n",
              "         0.03745949,  0.00777924, -0.04166335,  0.03241856, -0.0154339 ,\n",
              "        -0.00501161,  0.04750499, -0.05594763, -0.02557029, -0.07658011,\n",
              "        -0.00954161,  0.05201419,  0.05247919, -0.04705292, -0.02025309,\n",
              "        -0.02906542,  0.00905462, -0.02360193, -0.02897148, -0.04282907,\n",
              "         0.01185522,  0.07170547,  0.03435238,  0.0152178 , -0.03709127,\n",
              "         0.00820201, -0.00158243,  0.00100679,  0.06306258, -0.00874422,\n",
              "        -0.0411729 , -0.07226491, -0.04226307, -0.04288929, -0.00716496,\n",
              "         0.01008164,  0.02963729, -0.0310086 ,  0.01166765,  0.0332526 ,\n",
              "         0.01878081,  0.02498525, -0.04470848, -0.04393564, -0.07239725,\n",
              "         0.05915174,  0.04601596, -0.01244204,  0.04842602, -0.02019249,\n",
              "        -0.03871978, -0.0965307 ,  0.05804843,  0.04711642, -0.08115228,\n",
              "        -0.04223279, -0.01994276, -0.00170304,  0.01368199, -0.05983623,\n",
              "         0.01114951, -0.08217213, -0.00361796, -0.05115946,  0.01806435,\n",
              "        -0.0010968 ,  0.04497613,  0.04218241, -0.01993763,  0.00027334,\n",
              "         0.04305584, -0.05045336, -0.05491906,  0.07409833,  0.00405172,\n",
              "         0.01157873, -0.04196706,  0.02346982,  0.00082368,  0.04681223,\n",
              "        -0.05061046,  0.07509128, -0.0572158 ,  0.01972957,  0.06602868,\n",
              "         0.00137952,  0.0087968 ,  0.07147352,  0.02394647, -0.03307814,\n",
              "        -0.03264528,  0.00330831,  0.0650582 , -0.08454012, -0.05951498,\n",
              "         0.01999471,  0.0510793 ,  0.07714211,  0.0212896 , -0.03880874,\n",
              "        -0.06256647,  0.02373222, -0.0271492 ,  0.02195961, -0.00867852,\n",
              "         0.03992235, -0.07138127, -0.05144556, -0.03928692,  0.0173775 ,\n",
              "        -0.03624833,  0.04611444, -0.08143098, -0.0464568 , -0.04375024,\n",
              "        -0.04974817, -0.00642759,  0.0610222 ,  0.01227411,  0.04930781,\n",
              "         0.06555765,  0.00105058, -0.03633029,  0.01976449,  0.05684359,\n",
              "         0.03188039,  0.07342774, -0.0432094 , -0.06326785, -0.01277917,\n",
              "         0.07144905,  0.08438311,  0.0159142 ,  0.01992265,  0.00406742,\n",
              "         0.04711024,  0.0695969 ,  0.01134715,  0.05241986,  0.0486811 ,\n",
              "        -0.02152896,  0.02750153,  0.08341856,  0.02979166,  0.00517557,\n",
              "        -0.02554339,  0.0361747 , -0.0134936 , -0.05826835, -0.03229276,\n",
              "        -0.00362899,  0.02772053,  0.08309717,  0.04655619, -0.04487134,\n",
              "        -0.04133007,  0.06249967,  0.04899501,  0.06476817, -0.01521912,\n",
              "        -0.01513908, -0.0261465 , -0.06125683, -0.04498488, -0.01026565,\n",
              "        -0.02108529,  0.04969677, -0.07519336,  0.00370389, -0.02517174,\n",
              "         0.03946933,  0.01508246,  0.02843656,  0.05604414,  0.0477034 ,\n",
              "        -0.01396264,  0.00461091,  0.04803156,  0.00378819, -0.03161572,\n",
              "        -0.03371875,  0.06577699,  0.02473207, -0.04658345,  0.0295849 ,\n",
              "         0.03239554,  0.02229044,  0.0189371 ,  0.08054908, -0.04270279,\n",
              "         0.00181363,  0.06620087, -0.01416854,  0.05886616, -0.01710259,\n",
              "         0.07076939, -0.05374702,  0.0772486 , -0.06092392,  0.08735346,\n",
              "         0.02719037, -0.02591406, -0.00082293,  0.02544197,  0.07219654,\n",
              "         0.02421062, -0.08150663,  0.00655945, -0.02105324,  0.07298991,\n",
              "        -0.0942312 , -0.0398341 , -0.00946015,  0.01864962, -0.06594907,\n",
              "        -0.02061031,  0.03916032,  0.02493333,  0.0523424 ,  0.04914749,\n",
              "         0.0265921 ,  0.00414744, -0.03072907,  0.01282035, -0.07294517,\n",
              "         0.00406119,  0.0508474 ,  0.04506036, -0.04113136, -0.02458026,\n",
              "        -0.01278879,  0.05416153,  0.01085789, -0.00383816,  0.06319531,\n",
              "        -0.01039822, -0.0085981 ,  0.04218015,  0.02631168, -0.01215969,\n",
              "        -0.04801273, -0.0057537 ,  0.07958157, -0.00342446, -0.04003422,\n",
              "         0.04489548,  0.03972328, -0.03654635, -0.0103077 ,  0.05797369,\n",
              "        -0.07291677, -0.04627644,  0.04178384,  0.0426202 ,  0.07427832,\n",
              "        -0.07611419, -0.03356987,  0.01045021, -0.00414893, -0.06806652,\n",
              "         0.00971183, -0.00982072, -0.06750642, -0.05817554, -0.01393246,\n",
              "         0.07822534,  0.06853258, -0.06211907, -0.04284019,  0.05259542,\n",
              "        -0.00293484,  0.08556709, -0.01186793, -0.01743564, -0.00575248,\n",
              "        -0.05875948, -0.01780828, -0.0044865 ,  0.05910227,  0.00491851,\n",
              "        -0.00533323, -0.07548014,  0.03967611,  0.01940784, -0.07486702,\n",
              "         0.05530169, -0.03995676,  0.0422132 , -0.07114612,  0.08749253,\n",
              "        -0.00310825, -0.07404343,  0.05479869,  0.06179687, -0.00616508,\n",
              "         0.00933189,  0.05170128, -0.0340554 ,  0.04323635, -0.0112295 ,\n",
              "         0.0301282 ,  0.02033275,  0.0510127 , -0.06593718,  0.08637337,\n",
              "        -0.01480854, -0.04023291,  0.05291774, -0.07808413,  0.00556861,\n",
              "         0.02070519, -0.08666012,  0.0322142 , -0.05191087, -0.03530994,\n",
              "        -0.01614792, -0.06994145, -0.0676867 , -0.02883964,  0.03085536,\n",
              "        -0.017052  , -0.0479947 ,  0.05495986, -0.01845735, -0.05764185,\n",
              "        -0.03204612,  0.06022317,  0.02351705,  0.02363279,  0.03421448,\n",
              "         0.05918843, -0.08058356, -0.02475284, -0.0144614 , -0.02723701,\n",
              "        -0.02320866, -0.06998416, -0.00506533, -0.0310645 , -0.03444215,\n",
              "         0.00464513, -0.06682655,  0.02403743, -0.0592008 ,  0.02590196,\n",
              "        -0.01181905, -0.01090001, -0.00241019, -0.03242588, -0.04809169,\n",
              "         0.01543232,  0.00024149, -0.05947987,  0.03393609,  0.00222857,\n",
              "        -0.06531623, -0.00068735, -0.00229209,  0.05836112,  0.0375278 ,\n",
              "        -0.00839147, -0.058934  , -0.01518851,  0.01875588, -0.0066118 ,\n",
              "        -0.01775666,  0.05648088,  0.04162489, -0.04035924,  0.05149738,\n",
              "        -0.03156463,  0.0425902 ,  0.03243999,  0.01802689,  0.02207958,\n",
              "        -0.04880771,  0.01972113,  0.0394384 , -0.02298437,  0.06128969,\n",
              "        -0.03545238, -0.04132018, -0.06024741, -0.06749073,  0.05998264,\n",
              "        -0.05700693, -0.03697315, -0.00487388, -0.07188877, -0.04109485,\n",
              "         0.04015879, -0.04827373,  0.04413117, -0.011144  , -0.01164167,\n",
              "         0.03086785, -0.04333033, -0.05013709, -0.05452312,  0.07824963,\n",
              "        -0.03654386,  0.01335707, -0.06831991, -0.03866893,  0.01886668,\n",
              "         0.01565993, -0.03597087, -0.01110811, -0.0515216 , -0.01157819,\n",
              "        -0.03496419, -0.03131003,  0.03838969,  0.0541825 , -0.0035362 ,\n",
              "         0.05259253,  0.0485206 , -0.08154732, -0.03993591, -0.00996632,\n",
              "        -0.0646713 , -0.01133888,  0.08664737,  0.04235418,  0.04582275,\n",
              "         0.0144569 ,  0.01399072,  0.02345413, -0.0332272 , -0.00808419,\n",
              "        -0.00095801,  0.04015512, -0.07435711, -0.04456157,  0.01463248,\n",
              "        -0.00729884,  0.03036667, -0.02227556,  0.00860931, -0.03635737,\n",
              "        -0.07768186, -0.06116204,  0.01847488,  0.03994477, -0.0508336 ,\n",
              "        -0.06122007, -0.03192249, -0.04356344,  0.00887687,  0.00588578,\n",
              "        -0.00377918, -0.06010316,  0.01778865, -0.06860039,  0.03889476,\n",
              "         0.08340965, -0.05010944, -0.0488612 ,  0.00307144,  0.05371645,\n",
              "        -0.00893991,  0.02739695,  0.00665724,  0.01253128, -0.04398755,\n",
              "         0.04252868, -0.03726567]], dtype=float32)>"
            ]
          },
          "metadata": {
            "tags": []
          },
          "execution_count": 86
        }
      ]
    },
    {
      "cell_type": "code",
      "metadata": {
        "id": "CK7KqECeX5vj"
      },
      "source": [
        "sentence_encoder = hub.KerasLayer(\"https://tfhub.dev/google/universal-sentence-encoder/4\",\n",
        "                                  input_shape=[], #Input to this layer can be a variable length\n",
        "                                  dtype='string',\n",
        "                                  trainable=False,\n",
        "                                  name=\"USE\")"
      ],
      "execution_count": 88,
      "outputs": []
    },
    {
      "cell_type": "code",
      "metadata": {
        "id": "SHdZ2LZlU3IG"
      },
      "source": [
        "#Create model \n",
        "\n",
        "model6 = tf.keras.Sequential([\n",
        "    sentence_encoder,\n",
        "    layers.Dense(128,activation='relu'),\n",
        "    layers.Dense(64,activation='relu'),\n",
        "    layers.Dense(64,activation='relu'),\n",
        "    layers.Dense(1, activation='sigmoid',name=\"output_layer\")\n",
        "],name=\"Model6_USE\")"
      ],
      "execution_count": 89,
      "outputs": []
    },
    {
      "cell_type": "code",
      "metadata": {
        "id": "7Ywj0V_LXNT1"
      },
      "source": [
        "model6.compile(\n",
        "    loss=tf.keras.losses.BinaryCrossentropy(),\n",
        "    optimizer=tf.keras.optimizers.Adam(learning_rate=0.0001),\n",
        "    metrics=['accuracy']\n",
        ")"
      ],
      "execution_count": 90,
      "outputs": []
    },
    {
      "cell_type": "code",
      "metadata": {
        "colab": {
          "base_uri": "https://localhost:8080/"
        },
        "id": "F9vjWuvTZcTv",
        "outputId": "2884a9dc-c3f2-4fd4-f8f0-aae0e5ff31bc"
      },
      "source": [
        "model6.summary()"
      ],
      "execution_count": 92,
      "outputs": [
        {
          "output_type": "stream",
          "text": [
            "Model: \"Model6_USE\"\n",
            "_________________________________________________________________\n",
            "Layer (type)                 Output Shape              Param #   \n",
            "=================================================================\n",
            "USE (KerasLayer)             (None, 512)               256797824 \n",
            "_________________________________________________________________\n",
            "dense_7 (Dense)              (None, 128)               65664     \n",
            "_________________________________________________________________\n",
            "dense_8 (Dense)              (None, 64)                8256      \n",
            "_________________________________________________________________\n",
            "dense_9 (Dense)              (None, 64)                4160      \n",
            "_________________________________________________________________\n",
            "output_layer (Dense)         (None, 1)                 65        \n",
            "=================================================================\n",
            "Total params: 256,875,969\n",
            "Trainable params: 78,145\n",
            "Non-trainable params: 256,797,824\n",
            "_________________________________________________________________\n"
          ],
          "name": "stdout"
        }
      ]
    },
    {
      "cell_type": "code",
      "metadata": {
        "colab": {
          "base_uri": "https://localhost:8080/"
        },
        "id": "1GJFhvDlZKp1",
        "outputId": "5fa2bea1-227a-467e-debd-657934ba3ec2"
      },
      "source": [
        "history6= model6.fit(\n",
        "    x = train_sentences,\n",
        "    y= train_labels,\n",
        "    epochs=10,\n",
        "    validation_data=(val_sentences,val_labels)\n",
        ")"
      ],
      "execution_count": 93,
      "outputs": [
        {
          "output_type": "stream",
          "text": [
            "Epoch 1/10\n",
            "215/215 [==============================] - 6s 16ms/step - loss: 0.6611 - accuracy: 0.6914 - val_loss: 0.5890 - val_accuracy: 0.7861\n",
            "Epoch 2/10\n",
            "215/215 [==============================] - 3s 13ms/step - loss: 0.4887 - accuracy: 0.8040 - val_loss: 0.4474 - val_accuracy: 0.8031\n",
            "Epoch 3/10\n",
            "215/215 [==============================] - 3s 13ms/step - loss: 0.4174 - accuracy: 0.8189 - val_loss: 0.4324 - val_accuracy: 0.8058\n",
            "Epoch 4/10\n",
            "215/215 [==============================] - 3s 13ms/step - loss: 0.4001 - accuracy: 0.8250 - val_loss: 0.4271 - val_accuracy: 0.8045\n",
            "Epoch 5/10\n",
            "215/215 [==============================] - 3s 13ms/step - loss: 0.3896 - accuracy: 0.8311 - val_loss: 0.4248 - val_accuracy: 0.8058\n",
            "Epoch 6/10\n",
            "215/215 [==============================] - 3s 13ms/step - loss: 0.3821 - accuracy: 0.8352 - val_loss: 0.4220 - val_accuracy: 0.8136\n",
            "Epoch 7/10\n",
            "215/215 [==============================] - 3s 13ms/step - loss: 0.3747 - accuracy: 0.8400 - val_loss: 0.4231 - val_accuracy: 0.8123\n",
            "Epoch 8/10\n",
            "215/215 [==============================] - 3s 13ms/step - loss: 0.3679 - accuracy: 0.8435 - val_loss: 0.4222 - val_accuracy: 0.8123\n",
            "Epoch 9/10\n",
            "215/215 [==============================] - 3s 13ms/step - loss: 0.3615 - accuracy: 0.8488 - val_loss: 0.4200 - val_accuracy: 0.8163\n",
            "Epoch 10/10\n",
            "215/215 [==============================] - 3s 13ms/step - loss: 0.3542 - accuracy: 0.8505 - val_loss: 0.4195 - val_accuracy: 0.8215\n"
          ],
          "name": "stdout"
        }
      ]
    },
    {
      "cell_type": "code",
      "metadata": {
        "colab": {
          "base_uri": "https://localhost:8080/"
        },
        "id": "MR-iVM1LZUvG",
        "outputId": "e9bcabfc-1b94-4179-995c-228951988849"
      },
      "source": [
        "model6_pred_probs = model6.predict(x=val_sentences)\n",
        "model6_pred_probs[:10]"
      ],
      "execution_count": 94,
      "outputs": [
        {
          "output_type": "execute_result",
          "data": {
            "text/plain": [
              "array([[0.12516665],\n",
              "       [0.83798397],\n",
              "       [0.9869878 ],\n",
              "       [0.16732854],\n",
              "       [0.7765374 ],\n",
              "       [0.7442685 ],\n",
              "       [0.9886192 ],\n",
              "       [0.98405075],\n",
              "       [0.9723956 ],\n",
              "       [0.0837422 ]], dtype=float32)"
            ]
          },
          "metadata": {
            "tags": []
          },
          "execution_count": 94
        }
      ]
    },
    {
      "cell_type": "code",
      "metadata": {
        "colab": {
          "base_uri": "https://localhost:8080/"
        },
        "id": "HgLgziVtZiw1",
        "outputId": "c543d799-8dda-4436-8096-5d820a967392"
      },
      "source": [
        "model6_pred = tf.squeeze(tf.round(model6_pred_probs))\n",
        "model6_pred[:10]"
      ],
      "execution_count": 95,
      "outputs": [
        {
          "output_type": "execute_result",
          "data": {
            "text/plain": [
              "<tf.Tensor: shape=(10,), dtype=float32, numpy=array([0., 1., 1., 0., 1., 1., 1., 1., 1., 0.], dtype=float32)>"
            ]
          },
          "metadata": {
            "tags": []
          },
          "execution_count": 95
        }
      ]
    },
    {
      "cell_type": "code",
      "metadata": {
        "id": "qJFCffbrZr6K"
      },
      "source": [
        "model6_results = calculate_results(y_true=val_labels, y_pred=model6_pred)"
      ],
      "execution_count": 96,
      "outputs": []
    },
    {
      "cell_type": "code",
      "metadata": {
        "colab": {
          "base_uri": "https://localhost:8080/"
        },
        "id": "HkRg0RlkZ0FP",
        "outputId": "dbede70b-ca30-48dd-9560-21bfafd2b36b"
      },
      "source": [
        "model6_results"
      ],
      "execution_count": 97,
      "outputs": [
        {
          "output_type": "execute_result",
          "data": {
            "text/plain": [
              "{'accuracy': 82.1522309711286,\n",
              " 'f1': 0.8207761832560263,\n",
              " 'precision': 0.8219755509810286,\n",
              " 'recall': 0.821522309711286}"
            ]
          },
          "metadata": {
            "tags": []
          },
          "execution_count": 97
        }
      ]
    },
    {
      "cell_type": "code",
      "metadata": {
        "colab": {
          "base_uri": "https://localhost:8080/"
        },
        "id": "ChUwVPfZZ1WX",
        "outputId": "11b8c03e-d0f6-4c77-9ab3-2c6c08f4f1e4"
      },
      "source": [
        "baseline_results"
      ],
      "execution_count": 98,
      "outputs": [
        {
          "output_type": "execute_result",
          "data": {
            "text/plain": [
              "{'accuracy': 79.26509186351706,\n",
              " 'f1': 0.7862189758049549,\n",
              " 'precision': 0.8111390004213173,\n",
              " 'recall': 0.7926509186351706}"
            ]
          },
          "metadata": {
            "tags": []
          },
          "execution_count": 98
        }
      ]
    },
    {
      "cell_type": "code",
      "metadata": {
        "colab": {
          "base_uri": "https://localhost:8080/"
        },
        "id": "bSUlhrwMZ2XC",
        "outputId": "9698516b-8516-4564-e48f-21ea4b64533d"
      },
      "source": [
        "len(train_sentences)"
      ],
      "execution_count": 99,
      "outputs": [
        {
          "output_type": "execute_result",
          "data": {
            "text/plain": [
              "6851"
            ]
          },
          "metadata": {
            "tags": []
          },
          "execution_count": 99
        }
      ]
    },
    {
      "cell_type": "markdown",
      "metadata": {
        "id": "o9UfNvJfao0W"
      },
      "source": [
        "#Model 7: TF hub Pretrainined USE but with 10% of training data "
      ]
    },
    {
      "cell_type": "code",
      "metadata": {
        "id": "BxofqUn1bemU"
      },
      "source": [
        "#This is wrong, splitting data like this will cause data leakage, as shown in model _7 on how our model did better with less information\n",
        "#Data leaked from validation into the test set \n",
        "\n",
        "#Create subsets of 10% of the training data \n",
        "\n",
        "#train_10_percent = train_df_shuffled[[\"text\",\"target\"]].sample(frac=0.1,random_state=42)\n",
        "#train_senteces_10_percent = train_10_percent[\"text\"].to_list()\n",
        "#train_labels_10_percent = train_10_percent['target'].to_list()\n",
        "\n",
        "#len(train_labels_10_percent), len(train_senteces_10_percent)"
      ],
      "execution_count": 100,
      "outputs": []
    },
    {
      "cell_type": "code",
      "metadata": {
        "colab": {
          "base_uri": "https://localhost:8080/"
        },
        "id": "QNioeOf_jzEg",
        "outputId": "2ca046d9-22eb-41cb-be77-a814492b24a3"
      },
      "source": [
        "#Making a better dataset split(no data leakage)\n",
        "train_10_percent_split = int(0.1* len(train_sentences))\n",
        "train_senteces_10_percent = train_sentences[:train_10_percent_split]\n",
        "train_labels_10_percent = train_labels[:train_10_percent_split]\n",
        "\n",
        "len(train_labels_10_percent), len(train_senteces_10_percent)"
      ],
      "execution_count": 101,
      "outputs": [
        {
          "output_type": "execute_result",
          "data": {
            "text/plain": [
              "(685, 685)"
            ]
          },
          "metadata": {
            "tags": []
          },
          "execution_count": 101
        }
      ]
    },
    {
      "cell_type": "code",
      "metadata": {
        "id": "ZFnLiWHVcrjT"
      },
      "source": [
        "#Creating model 7 on 10% of data "
      ],
      "execution_count": 102,
      "outputs": []
    },
    {
      "cell_type": "code",
      "metadata": {
        "id": "RDK5IU1Gc6cX"
      },
      "source": [
        "model7 = tf.keras.Sequential([\n",
        "  sentence_encoder,\n",
        "  layers.Dense(64,activation='relu'),\n",
        "  layers.Dense(1, activation=\"sigmoid\")\n",
        "])"
      ],
      "execution_count": 103,
      "outputs": []
    },
    {
      "cell_type": "code",
      "metadata": {
        "id": "iQoX5n-hdpWY"
      },
      "source": [
        "model7.compile(\n",
        "    loss= tf.keras.losses.BinaryCrossentropy(),\n",
        "    optimizer=tf.keras.optimizers.Adam(),\n",
        "    metrics= ['accuracy']\n",
        ")"
      ],
      "execution_count": 104,
      "outputs": []
    },
    {
      "cell_type": "code",
      "metadata": {
        "colab": {
          "base_uri": "https://localhost:8080/"
        },
        "id": "_dysJk_SdxMS",
        "outputId": "33b8e6ed-e927-49fd-d785-49ed3504b2d3"
      },
      "source": [
        "history7 = model7.fit(\n",
        "    x=train_senteces_10_percent,\n",
        "    y= train_labels_10_percent,\n",
        "    epochs=10,\n",
        "    validation_data=(val_sentences,val_labels),\n",
        "    callbacks=[create_tensorboard_callback(Save_dir,\n",
        "                                           \"USE_10_percent_correct_splot\")]\n",
        "\n",
        ")"
      ],
      "execution_count": 105,
      "outputs": [
        {
          "output_type": "stream",
          "text": [
            "Saving TensorBoard log files to: model_logs/USE_10_percent_correct_splot/20210720-230441\n",
            "Epoch 1/10\n",
            "22/22 [==============================] - 6s 212ms/step - loss: 0.6740 - accuracy: 0.6350 - val_loss: 0.6553 - val_accuracy: 0.6719\n",
            "Epoch 2/10\n",
            "22/22 [==============================] - 1s 27ms/step - loss: 0.6080 - accuracy: 0.7781 - val_loss: 0.6004 - val_accuracy: 0.7428\n",
            "Epoch 3/10\n",
            "22/22 [==============================] - 1s 24ms/step - loss: 0.5315 - accuracy: 0.8219 - val_loss: 0.5429 - val_accuracy: 0.7625\n",
            "Epoch 4/10\n",
            "22/22 [==============================] - 1s 26ms/step - loss: 0.4662 - accuracy: 0.8204 - val_loss: 0.5043 - val_accuracy: 0.7625\n",
            "Epoch 5/10\n",
            "22/22 [==============================] - 1s 27ms/step - loss: 0.4218 - accuracy: 0.8380 - val_loss: 0.4901 - val_accuracy: 0.7612\n",
            "Epoch 6/10\n",
            "22/22 [==============================] - 1s 26ms/step - loss: 0.3926 - accuracy: 0.8526 - val_loss: 0.4846 - val_accuracy: 0.7782\n",
            "Epoch 7/10\n",
            "22/22 [==============================] - 1s 26ms/step - loss: 0.3712 - accuracy: 0.8482 - val_loss: 0.4844 - val_accuracy: 0.7861\n",
            "Epoch 8/10\n",
            "22/22 [==============================] - 1s 26ms/step - loss: 0.3524 - accuracy: 0.8613 - val_loss: 0.4851 - val_accuracy: 0.7822\n",
            "Epoch 9/10\n",
            "22/22 [==============================] - 1s 28ms/step - loss: 0.3380 - accuracy: 0.8730 - val_loss: 0.4917 - val_accuracy: 0.7743\n",
            "Epoch 10/10\n",
            "22/22 [==============================] - 0s 23ms/step - loss: 0.3243 - accuracy: 0.8701 - val_loss: 0.4960 - val_accuracy: 0.7677\n"
          ],
          "name": "stdout"
        }
      ]
    },
    {
      "cell_type": "code",
      "metadata": {
        "colab": {
          "base_uri": "https://localhost:8080/"
        },
        "id": "9pDxxpAFenuW",
        "outputId": "f0ebc90f-0d18-4bf9-8d7c-2dec8a3a6eaf"
      },
      "source": [
        "model7.summary()"
      ],
      "execution_count": 106,
      "outputs": [
        {
          "output_type": "stream",
          "text": [
            "Model: \"sequential\"\n",
            "_________________________________________________________________\n",
            "Layer (type)                 Output Shape              Param #   \n",
            "=================================================================\n",
            "USE (KerasLayer)             (None, 512)               256797824 \n",
            "_________________________________________________________________\n",
            "dense_10 (Dense)             (None, 64)                32832     \n",
            "_________________________________________________________________\n",
            "dense_11 (Dense)             (None, 1)                 65        \n",
            "=================================================================\n",
            "Total params: 256,830,721\n",
            "Trainable params: 32,897\n",
            "Non-trainable params: 256,797,824\n",
            "_________________________________________________________________\n"
          ],
          "name": "stdout"
        }
      ]
    },
    {
      "cell_type": "code",
      "metadata": {
        "colab": {
          "base_uri": "https://localhost:8080/"
        },
        "id": "MwPApioqd_M5",
        "outputId": "adcdd651-b14f-485f-b6cf-7cc52e564d94"
      },
      "source": [
        "model7_pred_probs = model7.predict(x=val_sentences)\n",
        "model7_pred_probs[:10]"
      ],
      "execution_count": 107,
      "outputs": [
        {
          "output_type": "execute_result",
          "data": {
            "text/plain": [
              "array([[0.07803223],\n",
              "       [0.50841665],\n",
              "       [0.97718954],\n",
              "       [0.40073422],\n",
              "       [0.49760124],\n",
              "       [0.62363577],\n",
              "       [0.957013  ],\n",
              "       [0.8752787 ],\n",
              "       [0.92307556],\n",
              "       [0.1578576 ]], dtype=float32)"
            ]
          },
          "metadata": {
            "tags": []
          },
          "execution_count": 107
        }
      ]
    },
    {
      "cell_type": "code",
      "metadata": {
        "colab": {
          "base_uri": "https://localhost:8080/"
        },
        "id": "Cja2snIbeJMm",
        "outputId": "a1a99cf5-bf50-4e55-9688-93a6a6085938"
      },
      "source": [
        "model7_pred = tf.squeeze(tf.round(model7_pred_probs))\n",
        "model7_pred[:10]"
      ],
      "execution_count": 108,
      "outputs": [
        {
          "output_type": "execute_result",
          "data": {
            "text/plain": [
              "<tf.Tensor: shape=(10,), dtype=float32, numpy=array([0., 1., 1., 0., 0., 1., 1., 1., 1., 0.], dtype=float32)>"
            ]
          },
          "metadata": {
            "tags": []
          },
          "execution_count": 108
        }
      ]
    },
    {
      "cell_type": "code",
      "metadata": {
        "id": "3A73oi-WeT5Q"
      },
      "source": [
        "model7_results = calculate_results(y_true=val_labels, y_pred=model7_pred)"
      ],
      "execution_count": 109,
      "outputs": []
    },
    {
      "cell_type": "code",
      "metadata": {
        "colab": {
          "base_uri": "https://localhost:8080/"
        },
        "id": "TJKn2QCyeZfy",
        "outputId": "f574798f-fc8e-429f-c4aa-637201a728bc"
      },
      "source": [
        "model7_results"
      ],
      "execution_count": 110,
      "outputs": [
        {
          "output_type": "execute_result",
          "data": {
            "text/plain": [
              "{'accuracy': 76.77165354330708,\n",
              " 'f1': 0.7663871505080737,\n",
              " 'precision': 0.7679905783589133,\n",
              " 'recall': 0.7677165354330708}"
            ]
          },
          "metadata": {
            "tags": []
          },
          "execution_count": 110
        }
      ]
    },
    {
      "cell_type": "code",
      "metadata": {
        "colab": {
          "base_uri": "https://localhost:8080/"
        },
        "id": "Ei1ziNQMebHR",
        "outputId": "e8a463bc-033a-47f5-bfda-b09c7116fa3d"
      },
      "source": [
        "baseline_results"
      ],
      "execution_count": 111,
      "outputs": [
        {
          "output_type": "execute_result",
          "data": {
            "text/plain": [
              "{'accuracy': 79.26509186351706,\n",
              " 'f1': 0.7862189758049549,\n",
              " 'precision': 0.8111390004213173,\n",
              " 'recall': 0.7926509186351706}"
            ]
          },
          "metadata": {
            "tags": []
          },
          "execution_count": 111
        }
      ]
    },
    {
      "cell_type": "markdown",
      "metadata": {
        "id": "UIdKiwhKecbd"
      },
      "source": [
        "#Comparing the performace of each of our models \n"
      ]
    },
    {
      "cell_type": "code",
      "metadata": {
        "colab": {
          "base_uri": "https://localhost:8080/",
          "height": 297
        },
        "id": "0VVcrT6Gm6cC",
        "outputId": "cb58582c-40d1-4ced-acdb-7b9c2f9355e0"
      },
      "source": [
        "#Combine model results into a dataframe\n",
        "\n",
        "all_model_results = pd.DataFrame({\"baseline\": baseline_results,\n",
        "                                  \"1 Simple Dense\":model_1_results,\n",
        "                                  \"2 LSTM\":model2_results,\n",
        "                                  \"3 GRU\":model3_results,\n",
        "                                  \"4 Bidirectional\":model4_results,\n",
        "                                  '5 Convid1D':model5_results_conv1d,\n",
        "                                  \"6 tf hub _USE encoder\":model6_results,\n",
        "                                  \"7 tf hub _use_encoder_10_percent\":model7_results})\n",
        "\n",
        "\n",
        "all_model_results = all_model_results.transpose()\n",
        "all_model_results[\"accuracy\"] = all_model_results['accuracy']/100\n",
        "all_model_results"
      ],
      "execution_count": 112,
      "outputs": [
        {
          "output_type": "execute_result",
          "data": {
            "text/html": [
              "<div>\n",
              "<style scoped>\n",
              "    .dataframe tbody tr th:only-of-type {\n",
              "        vertical-align: middle;\n",
              "    }\n",
              "\n",
              "    .dataframe tbody tr th {\n",
              "        vertical-align: top;\n",
              "    }\n",
              "\n",
              "    .dataframe thead th {\n",
              "        text-align: right;\n",
              "    }\n",
              "</style>\n",
              "<table border=\"1\" class=\"dataframe\">\n",
              "  <thead>\n",
              "    <tr style=\"text-align: right;\">\n",
              "      <th></th>\n",
              "      <th>accuracy</th>\n",
              "      <th>precision</th>\n",
              "      <th>recall</th>\n",
              "      <th>f1</th>\n",
              "    </tr>\n",
              "  </thead>\n",
              "  <tbody>\n",
              "    <tr>\n",
              "      <th>baseline</th>\n",
              "      <td>0.792651</td>\n",
              "      <td>0.811139</td>\n",
              "      <td>0.792651</td>\n",
              "      <td>0.786219</td>\n",
              "    </tr>\n",
              "    <tr>\n",
              "      <th>1 Simple Dense</th>\n",
              "      <td>0.787402</td>\n",
              "      <td>0.791492</td>\n",
              "      <td>0.787402</td>\n",
              "      <td>0.784697</td>\n",
              "    </tr>\n",
              "    <tr>\n",
              "      <th>2 LSTM</th>\n",
              "      <td>0.770341</td>\n",
              "      <td>0.776480</td>\n",
              "      <td>0.770341</td>\n",
              "      <td>0.766365</td>\n",
              "    </tr>\n",
              "    <tr>\n",
              "      <th>3 GRU</th>\n",
              "      <td>0.766404</td>\n",
              "      <td>0.767247</td>\n",
              "      <td>0.766404</td>\n",
              "      <td>0.764665</td>\n",
              "    </tr>\n",
              "    <tr>\n",
              "      <th>4 Bidirectional</th>\n",
              "      <td>0.755906</td>\n",
              "      <td>0.755825</td>\n",
              "      <td>0.755906</td>\n",
              "      <td>0.754675</td>\n",
              "    </tr>\n",
              "    <tr>\n",
              "      <th>5 Convid1D</th>\n",
              "      <td>0.745407</td>\n",
              "      <td>0.748850</td>\n",
              "      <td>0.745407</td>\n",
              "      <td>0.741649</td>\n",
              "    </tr>\n",
              "    <tr>\n",
              "      <th>6 tf hub _USE encoder</th>\n",
              "      <td>0.821522</td>\n",
              "      <td>0.821976</td>\n",
              "      <td>0.821522</td>\n",
              "      <td>0.820776</td>\n",
              "    </tr>\n",
              "    <tr>\n",
              "      <th>7 tf hub _use_encoder_10_percent</th>\n",
              "      <td>0.767717</td>\n",
              "      <td>0.767991</td>\n",
              "      <td>0.767717</td>\n",
              "      <td>0.766387</td>\n",
              "    </tr>\n",
              "  </tbody>\n",
              "</table>\n",
              "</div>"
            ],
            "text/plain": [
              "                                  accuracy  precision    recall        f1\n",
              "baseline                          0.792651   0.811139  0.792651  0.786219\n",
              "1 Simple Dense                    0.787402   0.791492  0.787402  0.784697\n",
              "2 LSTM                            0.770341   0.776480  0.770341  0.766365\n",
              "3 GRU                             0.766404   0.767247  0.766404  0.764665\n",
              "4 Bidirectional                   0.755906   0.755825  0.755906  0.754675\n",
              "5 Convid1D                        0.745407   0.748850  0.745407  0.741649\n",
              "6 tf hub _USE encoder             0.821522   0.821976  0.821522  0.820776\n",
              "7 tf hub _use_encoder_10_percent  0.767717   0.767991  0.767717  0.766387"
            ]
          },
          "metadata": {
            "tags": []
          },
          "execution_count": 112
        }
      ]
    },
    {
      "cell_type": "code",
      "metadata": {
        "colab": {
          "base_uri": "https://localhost:8080/",
          "height": 607
        },
        "id": "Y7mq54OQnLeX",
        "outputId": "fabbde60-8bbc-4e9a-e204-873d83053fb5"
      },
      "source": [
        "all_model_results.plot(kind=\"bar\", figsize=(10,7)).legend(bbox_to_anchor=(1.0,1.0))"
      ],
      "execution_count": 113,
      "outputs": [
        {
          "output_type": "execute_result",
          "data": {
            "text/plain": [
              "<matplotlib.legend.Legend at 0x7f792b00f190>"
            ]
          },
          "metadata": {
            "tags": []
          },
          "execution_count": 113
        },
        {
          "output_type": "display_data",
          "data": {
            "image/png": "[encoded data removed]",
            "text/plain": [
              "<Figure size 720x504 with 1 Axes>"
            ]
          },
          "metadata": {
            "tags": [],
            "needs_background": "light"
          }
        }
      ]
    },
    {
      "cell_type": "code",
      "metadata": {
        "colab": {
          "base_uri": "https://localhost:8080/",
          "height": 590
        },
        "id": "M4nUTWZJnv1E",
        "outputId": "b8898490-570f-48d6-d9b0-4dcddbfffa7a"
      },
      "source": [
        "#Sort model results by f1-score\n",
        "all_model_results.sort_values(\"f1\",ascending=False)['f1'].plot(kind='bar',figsize=(10,7));#Start from highest and go down"
      ],
      "execution_count": 114,
      "outputs": [
        {
          "output_type": "display_data",
          "data": {
            "image/png": "[encoded data removed]",
            "text/plain": [
              "<Figure size 720x504 with 1 Axes>"
            ]
          },
          "metadata": {
            "tags": [],
            "needs_background": "light"
          }
        }
      ]
    },
    {
      "cell_type": "markdown",
      "metadata": {
        "id": "EY3JvXjHrhJB"
      },
      "source": [
        "#View Tensorboard Logs of transfer learning moddeling experiments "
      ]
    },
    {
      "cell_type": "code",
      "metadata": {
        "colab": {
          "base_uri": "https://localhost:8080/"
        },
        "id": "JJFiYDprp5mZ",
        "outputId": "e0c8488a-fc26-4b1c-919f-b4e7e7b8fe39"
      },
      "source": [
        "!tensorboard dev upload --logdir ./model_logs/ \\\n",
        "--name \"NLP Modeling experiments\" \\\n",
        "--description \"Comparing 7 models to one another\" \\\n",
        "--one_shot #Exit uploader once uploading is finished"
      ],
      "execution_count": 115,
      "outputs": [
        {
          "output_type": "stream",
          "text": [
            "2021-07-20 23:05:14.730208: I tensorflow/stream_executor/platform/default/dso_loader.cc:53] Successfully opened dynamic library libcudart.so.11.0\n",
            "\n",
            "***** TensorBoard Uploader *****\n",
            "\n",
            "This will upload your TensorBoard logs to https://tensorboard.dev/ from\n",
            "the following directory:\n",
            "\n",
            "./model_logs/\n",
            "\n",
            "This TensorBoard will be visible to everyone. Do not upload sensitive\n",
            "data.\n",
            "\n",
            "Your use of this service is subject to Google's Terms of Service\n",
            "<https://policies.google.com/terms> and Privacy Policy\n",
            "<https://policies.google.com/privacy>, and TensorBoard.dev's Terms of Service\n",
            "<https://tensorboard.dev/policy/terms/>.\n",
            "\n",
            "This notice will not be shown again while you are logged into the uploader.\n",
            "To log out, run `tensorboard dev auth revoke`.\n",
            "\n",
            "Continue? (yes/NO) Traceback (most recent call last):\n",
            "  File \"/usr/local/bin/tensorboard\", line 8, in <module>\n",
            "    sys.exit(run_main())\n",
            "  File \"/usr/local/lib/python3.7/dist-packages/tensorboard/main.py\", line 46, in run_main\n",
            "  File \"/usr/local/lib/python3.7/dist-packages/absl/app.py\", line 303, in run\n",
            "    _run_main(main, args)\n",
            "  File \"/usr/local/lib/python3.7/dist-packages/absl/app.py\", line 251, in _run_main\n",
            "    sys.exit(main(argv))\n",
            "  File \"/usr/local/lib/python3.7/dist-packages/tensorboard/program.py\", line 276, in main\n",
            "    return runner(self.flags) or 0\n",
            "  File \"/usr/local/lib/python3.7/dist-packages/tensorboard/uploader/uploader_subcommand.py\", line 654, in run\n",
            "    return _run(flags, self._experiment_url_callback)\n",
            "  File \"/usr/local/lib/python3.7/dist-packages/tensorboard/uploader/uploader_subcommand.py\", line 93, in _run\n",
            "    _prompt_for_user_ack(intent)\n",
            "  File \"/usr/local/lib/python3.7/dist-packages/tensorboard/uploader/uploader_subcommand.py\", line 66, in _prompt_for_user_ack\n",
            "    response = input(\"Continue? (yes/NO) \")\n",
            "KeyboardInterrupt\n"
          ],
          "name": "stdout"
        }
      ]
    },
    {
      "cell_type": "markdown",
      "metadata": {
        "id": "pLHR8szUrB9h"
      },
      "source": [
        "#Inspect our models performance "
      ]
    },
    {
      "cell_type": "code",
      "metadata": {
        "colab": {
          "base_uri": "https://localhost:8080/"
        },
        "id": "s2YOrERdu9Ki",
        "outputId": "104ba367-98b1-4443-bf93-a129fea6463e"
      },
      "source": [
        "#Finding the most wrong examples, Model drivien exploration (active learning)\n",
        "#Create dataframe with validation sentences and best performaing model perdicitons \n",
        "\n",
        "model6.evaluate(val_sentences,val_labels)"
      ],
      "execution_count": 116,
      "outputs": [
        {
          "output_type": "stream",
          "text": [
            "24/24 [==============================] - 0s 13ms/step - loss: 0.4195 - accuracy: 0.8215\n"
          ],
          "name": "stdout"
        },
        {
          "output_type": "execute_result",
          "data": {
            "text/plain": [
              "[0.41953739523887634, 0.8215222954750061]"
            ]
          },
          "metadata": {
            "tags": []
          },
          "execution_count": 116
        }
      ]
    },
    {
      "cell_type": "code",
      "metadata": {
        "colab": {
          "base_uri": "https://localhost:8080/",
          "height": 204
        },
        "id": "luwvcTpHv8j0",
        "outputId": "8e1e64a9-51c8-4d78-f67f-351f09cb8d33"
      },
      "source": [
        "val_df = pd.DataFrame({'text':val_sentences,\n",
        "                       \"target\":val_labels,\n",
        "                       'pred':model6_pred,\n",
        "                       'pred_probs':tf.squeeze(model6_pred_probs)})\n",
        "val_df.head()\n"
      ],
      "execution_count": 121,
      "outputs": [
        {
          "output_type": "execute_result",
          "data": {
            "text/html": [
              "<div>\n",
              "<style scoped>\n",
              "    .dataframe tbody tr th:only-of-type {\n",
              "        vertical-align: middle;\n",
              "    }\n",
              "\n",
              "    .dataframe tbody tr th {\n",
              "        vertical-align: top;\n",
              "    }\n",
              "\n",
              "    .dataframe thead th {\n",
              "        text-align: right;\n",
              "    }\n",
              "</style>\n",
              "<table border=\"1\" class=\"dataframe\">\n",
              "  <thead>\n",
              "    <tr style=\"text-align: right;\">\n",
              "      <th></th>\n",
              "      <th>text</th>\n",
              "      <th>target</th>\n",
              "      <th>pred</th>\n",
              "      <th>pred_probs</th>\n",
              "    </tr>\n",
              "  </thead>\n",
              "  <tbody>\n",
              "    <tr>\n",
              "      <th>0</th>\n",
              "      <td>DFR EP016 Monthly Meltdown - On Dnbheaven 2015...</td>\n",
              "      <td>0</td>\n",
              "      <td>0.0</td>\n",
              "      <td>0.125167</td>\n",
              "    </tr>\n",
              "    <tr>\n",
              "      <th>1</th>\n",
              "      <td>FedEx no longer to transport bioterror germs i...</td>\n",
              "      <td>0</td>\n",
              "      <td>1.0</td>\n",
              "      <td>0.837984</td>\n",
              "    </tr>\n",
              "    <tr>\n",
              "      <th>2</th>\n",
              "      <td>Gunmen kill four in El Salvador bus attack: Su...</td>\n",
              "      <td>1</td>\n",
              "      <td>1.0</td>\n",
              "      <td>0.986988</td>\n",
              "    </tr>\n",
              "    <tr>\n",
              "      <th>3</th>\n",
              "      <td>@camilacabello97 Internally and externally scr...</td>\n",
              "      <td>1</td>\n",
              "      <td>0.0</td>\n",
              "      <td>0.167329</td>\n",
              "    </tr>\n",
              "    <tr>\n",
              "      <th>4</th>\n",
              "      <td>Radiation emergency #preparedness starts with ...</td>\n",
              "      <td>1</td>\n",
              "      <td>1.0</td>\n",
              "      <td>0.776537</td>\n",
              "    </tr>\n",
              "  </tbody>\n",
              "</table>\n",
              "</div>"
            ],
            "text/plain": [
              "                                                text  target  pred  pred_probs\n",
              "0  DFR EP016 Monthly Meltdown - On Dnbheaven 2015...       0   0.0    0.125167\n",
              "1  FedEx no longer to transport bioterror germs i...       0   1.0    0.837984\n",
              "2  Gunmen kill four in El Salvador bus attack: Su...       1   1.0    0.986988\n",
              "3  @camilacabello97 Internally and externally scr...       1   0.0    0.167329\n",
              "4  Radiation emergency #preparedness starts with ...       1   1.0    0.776537"
            ]
          },
          "metadata": {
            "tags": []
          },
          "execution_count": 121
        }
      ]
    },
    {
      "cell_type": "code",
      "metadata": {
        "id": "EutnIiHQwRti"
      },
      "source": [
        "most_wrong = val_df[val_df[\"target\"] != val_df['pred']].sort_values(\"pred_probs\",ascending=False)"
      ],
      "execution_count": 124,
      "outputs": []
    },
    {
      "cell_type": "code",
      "metadata": {
        "colab": {
          "base_uri": "https://localhost:8080/",
          "height": 204
        },
        "id": "pX7fGmLzLfVX",
        "outputId": "f41125c8-8848-4e8e-f7c2-6c67dbef77db"
      },
      "source": [
        "most_wrong.head()"
      ],
      "execution_count": 126,
      "outputs": [
        {
          "output_type": "execute_result",
          "data": {
            "text/html": [
              "<div>\n",
              "<style scoped>\n",
              "    .dataframe tbody tr th:only-of-type {\n",
              "        vertical-align: middle;\n",
              "    }\n",
              "\n",
              "    .dataframe tbody tr th {\n",
              "        vertical-align: top;\n",
              "    }\n",
              "\n",
              "    .dataframe thead th {\n",
              "        text-align: right;\n",
              "    }\n",
              "</style>\n",
              "<table border=\"1\" class=\"dataframe\">\n",
              "  <thead>\n",
              "    <tr style=\"text-align: right;\">\n",
              "      <th></th>\n",
              "      <th>text</th>\n",
              "      <th>target</th>\n",
              "      <th>pred</th>\n",
              "      <th>pred_probs</th>\n",
              "    </tr>\n",
              "  </thead>\n",
              "  <tbody>\n",
              "    <tr>\n",
              "      <th>759</th>\n",
              "      <td>FedEx will no longer transport bioterror patho...</td>\n",
              "      <td>0</td>\n",
              "      <td>1.0</td>\n",
              "      <td>0.939831</td>\n",
              "    </tr>\n",
              "    <tr>\n",
              "      <th>31</th>\n",
              "      <td>? High Skies - Burning Buildings ? http://t.co...</td>\n",
              "      <td>0</td>\n",
              "      <td>1.0</td>\n",
              "      <td>0.912786</td>\n",
              "    </tr>\n",
              "    <tr>\n",
              "      <th>628</th>\n",
              "      <td>@noah_anyname That's where the concentration c...</td>\n",
              "      <td>0</td>\n",
              "      <td>1.0</td>\n",
              "      <td>0.892310</td>\n",
              "    </tr>\n",
              "    <tr>\n",
              "      <th>109</th>\n",
              "      <td>[55436] 1950 LIONEL TRAINS SMOKE LOCOMOTIVES W...</td>\n",
              "      <td>0</td>\n",
              "      <td>1.0</td>\n",
              "      <td>0.890203</td>\n",
              "    </tr>\n",
              "    <tr>\n",
              "      <th>209</th>\n",
              "      <td>Ashes 2015: AustraliaÛªs collapse at Trent Br...</td>\n",
              "      <td>0</td>\n",
              "      <td>1.0</td>\n",
              "      <td>0.862399</td>\n",
              "    </tr>\n",
              "  </tbody>\n",
              "</table>\n",
              "</div>"
            ],
            "text/plain": [
              "                                                  text  ...  pred_probs\n",
              "759  FedEx will no longer transport bioterror patho...  ...    0.939831\n",
              "31   ? High Skies - Burning Buildings ? http://t.co...  ...    0.912786\n",
              "628  @noah_anyname That's where the concentration c...  ...    0.892310\n",
              "109  [55436] 1950 LIONEL TRAINS SMOKE LOCOMOTIVES W...  ...    0.890203\n",
              "209  Ashes 2015: AustraliaÛªs collapse at Trent Br...  ...    0.862399\n",
              "\n",
              "[5 rows x 4 columns]"
            ]
          },
          "metadata": {
            "tags": []
          },
          "execution_count": 126
        }
      ]
    },
    {
      "cell_type": "code",
      "metadata": {
        "colab": {
          "base_uri": "https://localhost:8080/",
          "height": 204
        },
        "id": "W3msDjTNLjS4",
        "outputId": "29c1cc49-b97a-40d8-a5de-b39f68c6b6b9"
      },
      "source": [
        "most_wrong.tail()"
      ],
      "execution_count": 127,
      "outputs": [
        {
          "output_type": "execute_result",
          "data": {
            "text/html": [
              "<div>\n",
              "<style scoped>\n",
              "    .dataframe tbody tr th:only-of-type {\n",
              "        vertical-align: middle;\n",
              "    }\n",
              "\n",
              "    .dataframe tbody tr th {\n",
              "        vertical-align: top;\n",
              "    }\n",
              "\n",
              "    .dataframe thead th {\n",
              "        text-align: right;\n",
              "    }\n",
              "</style>\n",
              "<table border=\"1\" class=\"dataframe\">\n",
              "  <thead>\n",
              "    <tr style=\"text-align: right;\">\n",
              "      <th></th>\n",
              "      <th>text</th>\n",
              "      <th>target</th>\n",
              "      <th>pred</th>\n",
              "      <th>pred_probs</th>\n",
              "    </tr>\n",
              "  </thead>\n",
              "  <tbody>\n",
              "    <tr>\n",
              "      <th>59</th>\n",
              "      <td>You can never escape me. Bullets don't harm me...</td>\n",
              "      <td>1</td>\n",
              "      <td>0.0</td>\n",
              "      <td>0.046350</td>\n",
              "    </tr>\n",
              "    <tr>\n",
              "      <th>233</th>\n",
              "      <td>I get to smoke my shit in peace</td>\n",
              "      <td>1</td>\n",
              "      <td>0.0</td>\n",
              "      <td>0.044300</td>\n",
              "    </tr>\n",
              "    <tr>\n",
              "      <th>38</th>\n",
              "      <td>Why are you deluged with low self-image? Take ...</td>\n",
              "      <td>1</td>\n",
              "      <td>0.0</td>\n",
              "      <td>0.043640</td>\n",
              "    </tr>\n",
              "    <tr>\n",
              "      <th>411</th>\n",
              "      <td>@SoonerMagic_ I mean I'm a fan but I don't nee...</td>\n",
              "      <td>1</td>\n",
              "      <td>0.0</td>\n",
              "      <td>0.039185</td>\n",
              "    </tr>\n",
              "    <tr>\n",
              "      <th>244</th>\n",
              "      <td>Reddit Will Now QuarantineÛ_ http://t.co/pkUA...</td>\n",
              "      <td>1</td>\n",
              "      <td>0.0</td>\n",
              "      <td>0.036771</td>\n",
              "    </tr>\n",
              "  </tbody>\n",
              "</table>\n",
              "</div>"
            ],
            "text/plain": [
              "                                                  text  ...  pred_probs\n",
              "59   You can never escape me. Bullets don't harm me...  ...    0.046350\n",
              "233                    I get to smoke my shit in peace  ...    0.044300\n",
              "38   Why are you deluged with low self-image? Take ...  ...    0.043640\n",
              "411  @SoonerMagic_ I mean I'm a fan but I don't nee...  ...    0.039185\n",
              "244  Reddit Will Now QuarantineÛ_ http://t.co/pkUA...  ...    0.036771\n",
              "\n",
              "[5 rows x 4 columns]"
            ]
          },
          "metadata": {
            "tags": []
          },
          "execution_count": 127
        }
      ]
    },
    {
      "cell_type": "code",
      "metadata": {
        "colab": {
          "base_uri": "https://localhost:8080/"
        },
        "id": "d5jhMs32LzCm",
        "outputId": "7902738b-90db-44ca-e04f-dd50f9492c0b"
      },
      "source": [
        "#Check the false positives (model perdicited 1 when should of been 0)\n",
        "\n",
        "for row in most_wrong[:10].itertuples():\n",
        "  _,text, target, pred,pred_probs = row\n",
        "  print(f\"target:{target},Pred:{pred},Prob:{pred_probs}\")\n",
        "  print(f\"text {text}\\n\")\n",
        "  print(\"----\\n\")\n"
      ],
      "execution_count": 128,
      "outputs": [
        {
          "output_type": "stream",
          "text": [
            "target:0,Pred:1.0,Prob:0.9398309588432312\n",
            "text FedEx will no longer transport bioterror pathogens in wake of anthrax lab mishaps http://t.co/lHpgxc4b8J\n",
            "\n",
            "----\n",
            "\n",
            "target:0,Pred:1.0,Prob:0.9127857685089111\n",
            "text ? High Skies - Burning Buildings ? http://t.co/uVq41i3Kx2 #nowplaying\n",
            "\n",
            "----\n",
            "\n",
            "target:0,Pred:1.0,Prob:0.8923099040985107\n",
            "text @noah_anyname That's where the concentration camps and mass murder come in. \n",
            " \n",
            "EVERY. FUCKING. TIME.\n",
            "\n",
            "----\n",
            "\n",
            "target:0,Pred:1.0,Prob:0.8902031183242798\n",
            "text [55436] 1950 LIONEL TRAINS SMOKE LOCOMOTIVES WITH MAGNE-TRACTION INSTRUCTIONS http://t.co/xEZBs3sq0y http://t.co/C2x0QoKGlY\n",
            "\n",
            "----\n",
            "\n",
            "target:0,Pred:1.0,Prob:0.8623986840248108\n",
            "text Ashes 2015: AustraliaÛªs collapse at Trent Bridge among worst in history: England bundled out Australia for 60 ... http://t.co/t5TrhjUAU0\n",
            "\n",
            "----\n",
            "\n",
            "target:0,Pred:1.0,Prob:0.8566797971725464\n",
            "text @AshGhebranious civil rights continued in the 60s. And what about trans-generational trauma? if anything we should listen to the Americans.\n",
            "\n",
            "----\n",
            "\n",
            "target:0,Pred:1.0,Prob:0.8566321134567261\n",
            "text The Sound of Arson\n",
            "\n",
            "----\n",
            "\n",
            "target:0,Pred:1.0,Prob:0.8533060550689697\n",
            "text My phone looks like it was in a car ship airplane accident. Terrible\n",
            "\n",
            "----\n",
            "\n",
            "target:0,Pred:1.0,Prob:0.8406219482421875\n",
            "text @madonnamking RSPCA site multiple 7 story high rise buildings next to low density character residential in an area that floods\n",
            "\n",
            "----\n",
            "\n",
            "target:0,Pred:1.0,Prob:0.8404160737991333\n",
            "text @freefromwolves GodsLove &amp; #thankU brother Danny for RT of NEW VIDEO http://t.co/cybKsXHF7d The Coming Apocalyptic US Earthquake &amp; Tsunami\n",
            "\n",
            "----\n",
            "\n"
          ],
          "name": "stdout"
        }
      ]
    },
    {
      "cell_type": "code",
      "metadata": {
        "colab": {
          "base_uri": "https://localhost:8080/"
        },
        "id": "TrGdR-bqMjAC",
        "outputId": "986a7cdc-ef68-4c7d-c12c-232f4c12a1f8"
      },
      "source": [
        "#Check the false negatives (model perdicted on 0 and was actually 1 )\n",
        "\n",
        "for row in most_wrong[-10:].itertuples():\n",
        "  _,text, target, pred,pred_probs = row\n",
        "  print(f\"target:{target},Pred:{pred},Prob:{pred_probs}\")\n",
        "  print(f\"text {text}\\n\")\n",
        "  print(\"----\\n\")"
      ],
      "execution_count": 129,
      "outputs": [
        {
          "output_type": "stream",
          "text": [
            "target:1,Pred:0.0,Prob:0.0654611885547638\n",
            "text @DavidVonderhaar At least you were sincere ??\n",
            "\n",
            "----\n",
            "\n",
            "target:1,Pred:0.0,Prob:0.06401634216308594\n",
            "text @BoyInAHorsemask its a panda trapped in a dogs body\n",
            "\n",
            "----\n",
            "\n",
            "target:1,Pred:0.0,Prob:0.057252734899520874\n",
            "text @reriellechan HE WAS THE LICH KING'S FIRST CASUALTY BLOCK ME BACK I HATE YOU! http://t.co/0Gidg9U45J\n",
            "\n",
            "----\n",
            "\n",
            "target:1,Pred:0.0,Prob:0.048909127712249756\n",
            "text @willienelson We need help! Horses will die!Please RT &amp; sign petition!Take a stand &amp; be a voice for them! #gilbert23 https://t.co/e8dl1lNCVu\n",
            "\n",
            "----\n",
            "\n",
            "target:1,Pred:0.0,Prob:0.04752039909362793\n",
            "text Ron &amp; Fez - Dave's High School Crush https://t.co/aN3W16c8F6 via @YouTube\n",
            "\n",
            "----\n",
            "\n",
            "target:1,Pred:0.0,Prob:0.04635003209114075\n",
            "text You can never escape me. Bullets don't harm me. Nothing harms me. But I know pain. I know pain. Sometimes I share it. With someone like you.\n",
            "\n",
            "----\n",
            "\n",
            "target:1,Pred:0.0,Prob:0.044300079345703125\n",
            "text I get to smoke my shit in peace\n",
            "\n",
            "----\n",
            "\n",
            "target:1,Pred:0.0,Prob:0.04363971948623657\n",
            "text Why are you deluged with low self-image? Take the quiz: http://t.co/XsPqdOrIqj http://t.co/CQYvFR4UCy\n",
            "\n",
            "----\n",
            "\n",
            "target:1,Pred:0.0,Prob:0.0391850471496582\n",
            "text @SoonerMagic_ I mean I'm a fan but I don't need a girl sounding off like a damn siren\n",
            "\n",
            "----\n",
            "\n",
            "target:1,Pred:0.0,Prob:0.03677111864089966\n",
            "text Reddit Will Now QuarantineÛ_ http://t.co/pkUAMXw6pm #onlinecommunities #reddit #amageddon #freespeech #Business http://t.co/PAWvNJ4sAP\n",
            "\n",
            "----\n",
            "\n"
          ],
          "name": "stdout"
        }
      ]
    },
    {
      "cell_type": "code",
      "metadata": {
        "colab": {
          "base_uri": "https://localhost:8080/",
          "height": 419
        },
        "id": "375a4Jz1NE_V",
        "outputId": "d78c6c29-194a-42dd-933d-1e790a06cebb"
      },
      "source": [
        " test_df"
      ],
      "execution_count": 130,
      "outputs": [
        {
          "output_type": "execute_result",
          "data": {
            "text/html": [
              "<div>\n",
              "<style scoped>\n",
              "    .dataframe tbody tr th:only-of-type {\n",
              "        vertical-align: middle;\n",
              "    }\n",
              "\n",
              "    .dataframe tbody tr th {\n",
              "        vertical-align: top;\n",
              "    }\n",
              "\n",
              "    .dataframe thead th {\n",
              "        text-align: right;\n",
              "    }\n",
              "</style>\n",
              "<table border=\"1\" class=\"dataframe\">\n",
              "  <thead>\n",
              "    <tr style=\"text-align: right;\">\n",
              "      <th></th>\n",
              "      <th>id</th>\n",
              "      <th>keyword</th>\n",
              "      <th>location</th>\n",
              "      <th>text</th>\n",
              "    </tr>\n",
              "  </thead>\n",
              "  <tbody>\n",
              "    <tr>\n",
              "      <th>0</th>\n",
              "      <td>0</td>\n",
              "      <td>NaN</td>\n",
              "      <td>NaN</td>\n",
              "      <td>Just happened a terrible car crash</td>\n",
              "    </tr>\n",
              "    <tr>\n",
              "      <th>1</th>\n",
              "      <td>2</td>\n",
              "      <td>NaN</td>\n",
              "      <td>NaN</td>\n",
              "      <td>Heard about #earthquake is different cities, s...</td>\n",
              "    </tr>\n",
              "    <tr>\n",
              "      <th>2</th>\n",
              "      <td>3</td>\n",
              "      <td>NaN</td>\n",
              "      <td>NaN</td>\n",
              "      <td>there is a forest fire at spot pond, geese are...</td>\n",
              "    </tr>\n",
              "    <tr>\n",
              "      <th>3</th>\n",
              "      <td>9</td>\n",
              "      <td>NaN</td>\n",
              "      <td>NaN</td>\n",
              "      <td>Apocalypse lighting. #Spokane #wildfires</td>\n",
              "    </tr>\n",
              "    <tr>\n",
              "      <th>4</th>\n",
              "      <td>11</td>\n",
              "      <td>NaN</td>\n",
              "      <td>NaN</td>\n",
              "      <td>Typhoon Soudelor kills 28 in China and Taiwan</td>\n",
              "    </tr>\n",
              "    <tr>\n",
              "      <th>...</th>\n",
              "      <td>...</td>\n",
              "      <td>...</td>\n",
              "      <td>...</td>\n",
              "      <td>...</td>\n",
              "    </tr>\n",
              "    <tr>\n",
              "      <th>3258</th>\n",
              "      <td>10861</td>\n",
              "      <td>NaN</td>\n",
              "      <td>NaN</td>\n",
              "      <td>EARTHQUAKE SAFETY LOS ANGELES ÛÒ SAFETY FASTE...</td>\n",
              "    </tr>\n",
              "    <tr>\n",
              "      <th>3259</th>\n",
              "      <td>10865</td>\n",
              "      <td>NaN</td>\n",
              "      <td>NaN</td>\n",
              "      <td>Storm in RI worse than last hurricane. My city...</td>\n",
              "    </tr>\n",
              "    <tr>\n",
              "      <th>3260</th>\n",
              "      <td>10868</td>\n",
              "      <td>NaN</td>\n",
              "      <td>NaN</td>\n",
              "      <td>Green Line derailment in Chicago http://t.co/U...</td>\n",
              "    </tr>\n",
              "    <tr>\n",
              "      <th>3261</th>\n",
              "      <td>10874</td>\n",
              "      <td>NaN</td>\n",
              "      <td>NaN</td>\n",
              "      <td>MEG issues Hazardous Weather Outlook (HWO) htt...</td>\n",
              "    </tr>\n",
              "    <tr>\n",
              "      <th>3262</th>\n",
              "      <td>10875</td>\n",
              "      <td>NaN</td>\n",
              "      <td>NaN</td>\n",
              "      <td>#CityofCalgary has activated its Municipal Eme...</td>\n",
              "    </tr>\n",
              "  </tbody>\n",
              "</table>\n",
              "<p>3263 rows × 4 columns</p>\n",
              "</div>"
            ],
            "text/plain": [
              "         id keyword location                                               text\n",
              "0         0     NaN      NaN                 Just happened a terrible car crash\n",
              "1         2     NaN      NaN  Heard about #earthquake is different cities, s...\n",
              "2         3     NaN      NaN  there is a forest fire at spot pond, geese are...\n",
              "3         9     NaN      NaN           Apocalypse lighting. #Spokane #wildfires\n",
              "4        11     NaN      NaN      Typhoon Soudelor kills 28 in China and Taiwan\n",
              "...     ...     ...      ...                                                ...\n",
              "3258  10861     NaN      NaN  EARTHQUAKE SAFETY LOS ANGELES ÛÒ SAFETY FASTE...\n",
              "3259  10865     NaN      NaN  Storm in RI worse than last hurricane. My city...\n",
              "3260  10868     NaN      NaN  Green Line derailment in Chicago http://t.co/U...\n",
              "3261  10874     NaN      NaN  MEG issues Hazardous Weather Outlook (HWO) htt...\n",
              "3262  10875     NaN      NaN  #CityofCalgary has activated its Municipal Eme...\n",
              "\n",
              "[3263 rows x 4 columns]"
            ]
          },
          "metadata": {
            "tags": []
          },
          "execution_count": 130
        }
      ]
    },
    {
      "cell_type": "code",
      "metadata": {
        "colab": {
          "base_uri": "https://localhost:8080/"
        },
        "id": "UiBVWWQnNohp",
        "outputId": "a2817083-d6e7-48e5-f66a-fe348e555681"
      },
      "source": [
        "test_df_text = test_df['text'].drop(columns=0)\n",
        "test_df_text = tf.squeeze(test_df_text)\n",
        "test_df_text"
      ],
      "execution_count": 137,
      "outputs": [
        {
          "output_type": "execute_result",
          "data": {
            "text/plain": [
              "<tf.Tensor: shape=(3263,), dtype=string, numpy=\n",
              "array([b'Just happened a terrible car crash',\n",
              "       b'Heard about #earthquake is different cities, stay safe everyone.',\n",
              "       b'there is a forest fire at spot pond, geese are fleeing across the street, I cannot save them all',\n",
              "       ..., b'Green Line derailment in Chicago http://t.co/UtbXLcBIuY',\n",
              "       b'MEG issues Hazardous Weather Outlook (HWO) http://t.co/3X6RBQJHn3',\n",
              "       b'#CityofCalgary has activated its Municipal Emergency Plan. #yycstorm'],\n",
              "      dtype=object)>"
            ]
          },
          "metadata": {
            "tags": []
          },
          "execution_count": 137
        }
      ]
    },
    {
      "cell_type": "code",
      "metadata": {
        "id": "Hxec61A3Ntgz"
      },
      "source": [
        "model7_test_perds= model7.predict(test_df_text)"
      ],
      "execution_count": 138,
      "outputs": []
    },
    {
      "cell_type": "code",
      "metadata": {
        "colab": {
          "base_uri": "https://localhost:8080/"
        },
        "id": "4on4P5N4OFuR",
        "outputId": "fb469044-7a7d-433c-b595-ae2fc82fdcdd"
      },
      "source": [
        "model7_test_perds"
      ],
      "execution_count": 139,
      "outputs": [
        {
          "output_type": "execute_result",
          "data": {
            "text/plain": [
              "array([[0.83855426],\n",
              "       [0.6726077 ],\n",
              "       [0.71246654],\n",
              "       ...,\n",
              "       [0.3815929 ],\n",
              "       [0.52578425],\n",
              "       [0.4992405 ]], dtype=float32)"
            ]
          },
          "metadata": {
            "tags": []
          },
          "execution_count": 139
        }
      ]
    },
    {
      "cell_type": "code",
      "metadata": {
        "id": "8lZgRR_VOHyT"
      },
      "source": [
        "model7_test_pred = tf.squeeze(tf.round(model7_test_perds))"
      ],
      "execution_count": 140,
      "outputs": []
    },
    {
      "cell_type": "code",
      "metadata": {
        "colab": {
          "base_uri": "https://localhost:8080/"
        },
        "id": "7Vy_c3SFOQea",
        "outputId": "ef875352-12ef-4538-c95b-c78d557298ae"
      },
      "source": [
        "model7_test_pred[:10]"
      ],
      "execution_count": 145,
      "outputs": [
        {
          "output_type": "execute_result",
          "data": {
            "text/plain": [
              "<tf.Tensor: shape=(10,), dtype=float32, numpy=array([1., 1., 1., 1., 1., 1., 0., 0., 0., 0.], dtype=float32)>"
            ]
          },
          "metadata": {
            "tags": []
          },
          "execution_count": 145
        }
      ]
    },
    {
      "cell_type": "code",
      "metadata": {
        "colab": {
          "base_uri": "https://localhost:8080/",
          "height": 374
        },
        "id": "uo3Pyuv_ORqH",
        "outputId": "86a1be46-4479-4094-9e20-308b575d2783"
      },
      "source": [
        "val_df = pd.DataFrame({'text':val_sentences,\n",
        "                       \"target\":val_labels,\n",
        "                       'pred':model7_test_pred,\n",
        "                       'pred_probs':model7_test_perds})\n",
        "val_df.head()\n",
        "\n",
        "len(model7_test_perds), len(model7_test_pred)"
      ],
      "execution_count": 149,
      "outputs": [
        {
          "output_type": "error",
          "ename": "ValueError",
          "evalue": "ignored",
          "traceback": [
            "\u001b[0;31m---------------------------------------------------------------------------\u001b[0m",
            "\u001b[0;31mValueError\u001b[0m                                Traceback (most recent call last)",
            "\u001b[0;32m<ipython-input-149-c883b2e21800>\u001b[0m in \u001b[0;36m<module>\u001b[0;34m()\u001b[0m\n\u001b[1;32m      2\u001b[0m                        \u001b[0;34m\"target\"\u001b[0m\u001b[0;34m:\u001b[0m\u001b[0mval_labels\u001b[0m\u001b[0;34m,\u001b[0m\u001b[0;34m\u001b[0m\u001b[0;34m\u001b[0m\u001b[0m\n\u001b[1;32m      3\u001b[0m                        \u001b[0;34m'pred'\u001b[0m\u001b[0;34m:\u001b[0m\u001b[0mmodel7_test_pred\u001b[0m\u001b[0;34m,\u001b[0m\u001b[0;34m\u001b[0m\u001b[0;34m\u001b[0m\u001b[0m\n\u001b[0;32m----> 4\u001b[0;31m                        'pred_probs':model7_test_perds})\n\u001b[0m\u001b[1;32m      5\u001b[0m \u001b[0mval_df\u001b[0m\u001b[0;34m.\u001b[0m\u001b[0mhead\u001b[0m\u001b[0;34m(\u001b[0m\u001b[0;34m)\u001b[0m\u001b[0;34m\u001b[0m\u001b[0;34m\u001b[0m\u001b[0m\n\u001b[1;32m      6\u001b[0m \u001b[0;34m\u001b[0m\u001b[0m\n",
            "\u001b[0;32m/usr/local/lib/python3.7/dist-packages/pandas/core/frame.py\u001b[0m in \u001b[0;36m__init__\u001b[0;34m(self, data, index, columns, dtype, copy)\u001b[0m\n\u001b[1;32m    466\u001b[0m \u001b[0;34m\u001b[0m\u001b[0m\n\u001b[1;32m    467\u001b[0m         \u001b[0;32melif\u001b[0m \u001b[0misinstance\u001b[0m\u001b[0;34m(\u001b[0m\u001b[0mdata\u001b[0m\u001b[0;34m,\u001b[0m \u001b[0mdict\u001b[0m\u001b[0;34m)\u001b[0m\u001b[0;34m:\u001b[0m\u001b[0;34m\u001b[0m\u001b[0;34m\u001b[0m\u001b[0m\n\u001b[0;32m--> 468\u001b[0;31m             \u001b[0mmgr\u001b[0m \u001b[0;34m=\u001b[0m \u001b[0minit_dict\u001b[0m\u001b[0;34m(\u001b[0m\u001b[0mdata\u001b[0m\u001b[0;34m,\u001b[0m \u001b[0mindex\u001b[0m\u001b[0;34m,\u001b[0m \u001b[0mcolumns\u001b[0m\u001b[0;34m,\u001b[0m \u001b[0mdtype\u001b[0m\u001b[0;34m=\u001b[0m\u001b[0mdtype\u001b[0m\u001b[0;34m)\u001b[0m\u001b[0;34m\u001b[0m\u001b[0;34m\u001b[0m\u001b[0m\n\u001b[0m\u001b[1;32m    469\u001b[0m         \u001b[0;32melif\u001b[0m \u001b[0misinstance\u001b[0m\u001b[0;34m(\u001b[0m\u001b[0mdata\u001b[0m\u001b[0;34m,\u001b[0m \u001b[0mma\u001b[0m\u001b[0;34m.\u001b[0m\u001b[0mMaskedArray\u001b[0m\u001b[0;34m)\u001b[0m\u001b[0;34m:\u001b[0m\u001b[0;34m\u001b[0m\u001b[0;34m\u001b[0m\u001b[0m\n\u001b[1;32m    470\u001b[0m             \u001b[0;32mimport\u001b[0m \u001b[0mnumpy\u001b[0m\u001b[0;34m.\u001b[0m\u001b[0mma\u001b[0m\u001b[0;34m.\u001b[0m\u001b[0mmrecords\u001b[0m \u001b[0;32mas\u001b[0m \u001b[0mmrecords\u001b[0m\u001b[0;34m\u001b[0m\u001b[0;34m\u001b[0m\u001b[0m\n",
            "\u001b[0;32m/usr/local/lib/python3.7/dist-packages/pandas/core/internals/construction.py\u001b[0m in \u001b[0;36minit_dict\u001b[0;34m(data, index, columns, dtype)\u001b[0m\n\u001b[1;32m    281\u001b[0m             \u001b[0marr\u001b[0m \u001b[0;32mif\u001b[0m \u001b[0;32mnot\u001b[0m \u001b[0mis_datetime64tz_dtype\u001b[0m\u001b[0;34m(\u001b[0m\u001b[0marr\u001b[0m\u001b[0;34m)\u001b[0m \u001b[0;32melse\u001b[0m \u001b[0marr\u001b[0m\u001b[0;34m.\u001b[0m\u001b[0mcopy\u001b[0m\u001b[0;34m(\u001b[0m\u001b[0;34m)\u001b[0m \u001b[0;32mfor\u001b[0m \u001b[0marr\u001b[0m \u001b[0;32min\u001b[0m \u001b[0marrays\u001b[0m\u001b[0;34m\u001b[0m\u001b[0;34m\u001b[0m\u001b[0m\n\u001b[1;32m    282\u001b[0m         ]\n\u001b[0;32m--> 283\u001b[0;31m     \u001b[0;32mreturn\u001b[0m \u001b[0marrays_to_mgr\u001b[0m\u001b[0;34m(\u001b[0m\u001b[0marrays\u001b[0m\u001b[0;34m,\u001b[0m \u001b[0mdata_names\u001b[0m\u001b[0;34m,\u001b[0m \u001b[0mindex\u001b[0m\u001b[0;34m,\u001b[0m \u001b[0mcolumns\u001b[0m\u001b[0;34m,\u001b[0m \u001b[0mdtype\u001b[0m\u001b[0;34m=\u001b[0m\u001b[0mdtype\u001b[0m\u001b[0;34m)\u001b[0m\u001b[0;34m\u001b[0m\u001b[0;34m\u001b[0m\u001b[0m\n\u001b[0m\u001b[1;32m    284\u001b[0m \u001b[0;34m\u001b[0m\u001b[0m\n\u001b[1;32m    285\u001b[0m \u001b[0;34m\u001b[0m\u001b[0m\n",
            "\u001b[0;32m/usr/local/lib/python3.7/dist-packages/pandas/core/internals/construction.py\u001b[0m in \u001b[0;36marrays_to_mgr\u001b[0;34m(arrays, arr_names, index, columns, dtype, verify_integrity)\u001b[0m\n\u001b[1;32m     76\u001b[0m         \u001b[0;31m# figure out the index, if necessary\u001b[0m\u001b[0;34m\u001b[0m\u001b[0;34m\u001b[0m\u001b[0;34m\u001b[0m\u001b[0m\n\u001b[1;32m     77\u001b[0m         \u001b[0;32mif\u001b[0m \u001b[0mindex\u001b[0m \u001b[0;32mis\u001b[0m \u001b[0;32mNone\u001b[0m\u001b[0;34m:\u001b[0m\u001b[0;34m\u001b[0m\u001b[0;34m\u001b[0m\u001b[0m\n\u001b[0;32m---> 78\u001b[0;31m             \u001b[0mindex\u001b[0m \u001b[0;34m=\u001b[0m \u001b[0mextract_index\u001b[0m\u001b[0;34m(\u001b[0m\u001b[0marrays\u001b[0m\u001b[0;34m)\u001b[0m\u001b[0;34m\u001b[0m\u001b[0;34m\u001b[0m\u001b[0m\n\u001b[0m\u001b[1;32m     79\u001b[0m         \u001b[0;32melse\u001b[0m\u001b[0;34m:\u001b[0m\u001b[0;34m\u001b[0m\u001b[0;34m\u001b[0m\u001b[0m\n\u001b[1;32m     80\u001b[0m             \u001b[0mindex\u001b[0m \u001b[0;34m=\u001b[0m \u001b[0mensure_index\u001b[0m\u001b[0;34m(\u001b[0m\u001b[0mindex\u001b[0m\u001b[0;34m)\u001b[0m\u001b[0;34m\u001b[0m\u001b[0;34m\u001b[0m\u001b[0m\n",
            "\u001b[0;32m/usr/local/lib/python3.7/dist-packages/pandas/core/internals/construction.py\u001b[0m in \u001b[0;36mextract_index\u001b[0;34m(data)\u001b[0m\n\u001b[1;32m    395\u001b[0m             \u001b[0mlengths\u001b[0m \u001b[0;34m=\u001b[0m \u001b[0mlist\u001b[0m\u001b[0;34m(\u001b[0m\u001b[0mset\u001b[0m\u001b[0;34m(\u001b[0m\u001b[0mraw_lengths\u001b[0m\u001b[0;34m)\u001b[0m\u001b[0;34m)\u001b[0m\u001b[0;34m\u001b[0m\u001b[0;34m\u001b[0m\u001b[0m\n\u001b[1;32m    396\u001b[0m             \u001b[0;32mif\u001b[0m \u001b[0mlen\u001b[0m\u001b[0;34m(\u001b[0m\u001b[0mlengths\u001b[0m\u001b[0;34m)\u001b[0m \u001b[0;34m>\u001b[0m \u001b[0;36m1\u001b[0m\u001b[0;34m:\u001b[0m\u001b[0;34m\u001b[0m\u001b[0;34m\u001b[0m\u001b[0m\n\u001b[0;32m--> 397\u001b[0;31m                 \u001b[0;32mraise\u001b[0m \u001b[0mValueError\u001b[0m\u001b[0;34m(\u001b[0m\u001b[0;34m\"arrays must all be same length\"\u001b[0m\u001b[0;34m)\u001b[0m\u001b[0;34m\u001b[0m\u001b[0;34m\u001b[0m\u001b[0m\n\u001b[0m\u001b[1;32m    398\u001b[0m \u001b[0;34m\u001b[0m\u001b[0m\n\u001b[1;32m    399\u001b[0m             \u001b[0;32mif\u001b[0m \u001b[0mhave_dicts\u001b[0m\u001b[0;34m:\u001b[0m\u001b[0;34m\u001b[0m\u001b[0;34m\u001b[0m\u001b[0m\n",
            "\u001b[0;31mValueError\u001b[0m: arrays must all be same length"
          ]
        }
      ]
    },
    {
      "cell_type": "code",
      "metadata": {
        "colab": {
          "base_uri": "https://localhost:8080/"
        },
        "id": "aM0rNi6AOqSp",
        "outputId": "f112689c-b7b7-441b-a7de-18d97ebe0d86"
      },
      "source": [
        "len(model7_test_perds), len(model7_test_pred)"
      ],
      "execution_count": 150,
      "outputs": [
        {
          "output_type": "execute_result",
          "data": {
            "text/plain": [
              "(3263, 3263)"
            ]
          },
          "metadata": {
            "tags": []
          },
          "execution_count": 150
        }
      ]
    },
    {
      "cell_type": "code",
      "metadata": {
        "colab": {
          "base_uri": "https://localhost:8080/"
        },
        "id": "cJhaIK3mO7aF",
        "outputId": "037a1d51-c900-4f08-e8b4-150e7e9f916b"
      },
      "source": [
        "len(val_labels)"
      ],
      "execution_count": 151,
      "outputs": [
        {
          "output_type": "execute_result",
          "data": {
            "text/plain": [
              "762"
            ]
          },
          "metadata": {
            "tags": []
          },
          "execution_count": 151
        }
      ]
    },
    {
      "cell_type": "code",
      "metadata": {
        "colab": {
          "base_uri": "https://localhost:8080/"
        },
        "id": "0kExTFYJO9uX",
        "outputId": "a690efea-4a48-4cab-df4f-11c3be9fd7ca"
      },
      "source": [
        "len(val_sentences)"
      ],
      "execution_count": 152,
      "outputs": [
        {
          "output_type": "execute_result",
          "data": {
            "text/plain": [
              "762"
            ]
          },
          "metadata": {
            "tags": []
          },
          "execution_count": 152
        }
      ]
    },
    {
      "cell_type": "code",
      "metadata": {
        "id": "gSL1EoxnO_Yi"
      },
      "source": [
        ""
      ],
      "execution_count": null,
      "outputs": []
    }
  ]
}